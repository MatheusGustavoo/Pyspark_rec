{
  "cells": [
    {
      "cell_type": "code",
      "execution_count": 351,
      "metadata": {
        "colab": {
          "base_uri": "https://localhost:8080/"
        },
        "id": "EeJCdY_Zij51",
        "outputId": "99430d65-a71a-4043-fad9-3292fbd79b21"
      },
      "outputs": [
        {
          "output_type": "stream",
          "name": "stdout",
          "text": [
            "Requirement already satisfied: pyspark in /usr/local/lib/python3.11/dist-packages (3.5.4)\n",
            "Requirement already satisfied: py4j==0.10.9.7 in /usr/local/lib/python3.11/dist-packages (from pyspark) (0.10.9.7)\n"
          ]
        }
      ],
      "source": [
        "!pip install pyspark"
      ]
    },
    {
      "cell_type": "code",
      "execution_count": 352,
      "metadata": {
        "id": "tHoCgMxdj1CB"
      },
      "outputs": [],
      "source": [
        "from pyspark.sql import SparkSession\n",
        "import pyspark.sql.functions as f\n",
        "from pyspark import SparkFiles\n",
        "\n",
        "\n",
        "sessao_spark = SparkSession.builder\\\n",
        "                           .appName(\"Recomendador PySpark\")\\\n",
        "                           .getOrCreate()"
      ]
    },
    {
      "cell_type": "markdown",
      "metadata": {
        "id": "Kb3Fox6wK4G-"
      },
      "source": [
        "# Análise dos dados\n"
      ]
    },
    {
      "cell_type": "markdown",
      "source": [
        "## Tabela \"musicas\""
      ],
      "metadata": {
        "id": "C_vaduOw7Yu-"
      }
    },
    {
      "cell_type": "code",
      "execution_count": 353,
      "metadata": {
        "id": "FqNV1IUYcbbQ"
      },
      "outputs": [],
      "source": [
        "url_dados = 'https://github.com/IgorNascAlves/dados/blob/main/dados_musicas.csv?raw=true'\n",
        "sessao_spark.sparkContext.addFile(url_dados)\n",
        "path_dados_file = 'file://' + SparkFiles.get('dados_musicas.csv')\n",
        "dados = sessao_spark.read.csv(path_dados_file, header=True, sep=';', inferSchema=True)"
      ]
    },
    {
      "cell_type": "code",
      "execution_count": 354,
      "metadata": {
        "colab": {
          "base_uri": "https://localhost:8080/"
        },
        "id": "32wRcGk0ktE7",
        "outputId": "c787054f-8ca2-444d-ad00-b92300ef1133"
      },
      "outputs": [
        {
          "output_type": "stream",
          "name": "stdout",
          "text": [
            "+------------------+----+------------+--------------+------------------+-----------+------------------+--------+--------------------+--------------------+---+--------+-------------------+----+--------------------+----------+-----------+------------------+--------------------+\n",
            "|           valence|year|acousticness|       artists|      danceability|duration_ms|            energy|explicit|                  id|    instrumentalness|key|liveness|           loudness|mode|                name|popularity|speechiness|             tempo|        artists_song|\n",
            "+------------------+----+------------+--------------+------------------+-----------+------------------+--------+--------------------+--------------------+---+--------+-------------------+----+--------------------+----------+-----------+------------------+--------------------+\n",
            "|             0.285|2000|     0.00239|      Coldplay|             0.429|     266773|0.6609999999999999|       0|3AJwUDP919kvQ9Qco...|             1.21E-4| 11|   0.234|             -7.227|   1|              Yellow|        84|     0.0281|           173.372|   Coldplay - Yellow|\n",
            "|             0.613|2000|       0.143|       OutKast|             0.843|     270507|0.8059999999999999|       1|0I3q5fE6wg7LIfHGn...|                 0.0|  4|  0.0771|-5.9460000000000015|   0|         Ms. Jackson|        80|      0.269|            94.948|OutKast - Ms. Jac...|\n",
            "|               0.4|2000|     0.00958|   Linkin Park|             0.556|     216880|0.8640000000000001|       0|60a0Rd6pjrkxjPbaK...|                 0.0|  3|   0.209|              -5.87|   0|          In the End|        84|     0.0584|           105.143|Linkin Park - In ...|\n",
            "|0.5429999999999999|2000|     0.00664|  3 Doors Down|             0.545|     233933|             0.865|       0|6ZOBP3NvffbU4SZcr...|              1.1E-5| 11|   0.168|-5.7079999999999975|   0|          Kryptonite|        78|     0.0286|            99.009|3 Doors Down - Kr...|\n",
            "|              0.76|2000|      0.0302|        Eminem|             0.949|     284200|0.6609999999999999|       1|3yfqSUWxFvZELEM4P...|                 0.0|  5|  0.0454|             -4.244|   0| The Real Slim Shady|        80|     0.0572|           104.504|Eminem - The Real...|\n",
            "|             0.941|2000|     9.96E-4|     Disturbed|             0.695|     279213|0.8759999999999999|       1|40rvBMQizxkIqnjPd...|             6.89E-6|  3|   0.106|             -4.262|   0|Down with the Sic...|        76|     0.0553|            89.954|Disturbed - Down ...|\n",
            "|             0.722|2000|      0.0616|         Nelly|              0.85|     291782|               0.7|       1|3Gf5nttwcX9aaSQXR...|              1.8E-6|  7|   0.244|              -6.49|   1|         Ride Wit Me|        74|     0.0478|           101.875| Nelly - Ride Wit Me|\n",
            "|             0.507|2000|      0.0371|        Eminem|              0.78|     404107|             0.768|       1|3UmaczJpikHgJFyBT...|             2.34E-6|  6|   0.518|             -4.325|   0|                Stan|        78|      0.238|            80.063|       Eminem - Stan|\n",
            "|             0.861|2000|       0.031|        *NSYNC|              0.61|     200400|             0.926|       0|62bOmKYxYg7dhrC6g...|              0.0012|  8|  0.0821|             -4.843|   0|         Bye Bye Bye|        71|     0.0479|           172.638|*NSYNC - Bye Bye Bye|\n",
            "|             0.894|2000|         0.3|Britney Spears|0.7509999999999999|     211160|0.8340000000000001|       0|6naxalmIoLFWR0siv...|             1.77E-5|  1|   0.355|             -5.444|   0|Oops!...I Did It ...|        78|     0.0437|            95.053|Britney Spears - ...|\n",
            "|             0.165|2000|       0.748|      Coldplay|             0.371|     227093|             0.268|       0|7D0RhFcb3CrfPuTJ0...|              0.0517|  1|   0.104|-10.505999999999998|   1|              Sparks|        73|     0.0281|           102.617|   Coldplay - Sparks|\n",
            "|0.5379999999999999|2000|      0.0014|   Linkin Park|0.4920000000000001|     157333|             0.969|       0|3K4HG9evC7dg3N0R9...|             1.32E-6|  9|  0.0787|             -4.419|   1|     One Step Closer|        76|     0.0491|            95.136|Linkin Park - One...|\n",
            "|             0.654|2000|      0.0561|        Shaggy|             0.853|     227600|             0.606|       0|3WkibOpDF7cQ5xntM...|                 0.0|  0|   0.313|             -4.596|   1|        It Wasn't Me|        76|     0.0713|            94.759|Shaggy - It Wasn'...|\n",
            "|             0.565|2000|     0.00689|         Nelly|             0.865|     287000|             0.664|       1|3wMUvT6eIw2L5cZFG...|                 0.0|  2|   0.142|             -6.822|   1|Country Grammar (...|        70|      0.108|162.83100000000005|Nelly - Country G...|\n",
            "|             0.532|2000|      0.0112|   The Beatles|             0.386|     425653|             0.607|       0|0aym2LBJBk9DAYuHH...|1.380000000000000...| 10|   0.088|               -7.7|   1|Hey Jude - Remast...|        76|     0.0261|           147.207|The Beatles - Hey...|\n",
            "|             0.866|2000|       0.386|   The Beatles|              0.49|     145747|             0.715|       0|4pbG9SUmWIvsROVLF...|                 0.0|  7|   0.311|             -5.549|   1|I Want To Hold Yo...|        73|     0.0476|           130.726|The Beatles - I W...|\n",
            "|             0.435|2000|     0.00118|     Lifehouse|             0.541|     216067|0.8640000000000001|       0|0wqOReZDnrefefEsr...|                 0.0|  1|  0.0896|             -4.915|   1| Hanging By A Moment|        65|     0.0357|           124.557|Lifehouse - Hangi...|\n",
            "|             0.299|2000|      0.0466|   Linkin Park|              0.58|     208960|0.7020000000000001|       0|57BrRMwf9LrcmuOsy...|              3.2E-6|  4|   0.536|             -5.565|   1|            Crawling|        73|     0.0337|           105.076|Linkin Park - Cra...|\n",
            "|             0.915|2000|      0.0281|       OutKast|             0.725|     240027|              0.64|       1|6glsMWIMIxQ4BedzL...|                 0.0|  5|   0.099|             -7.905|   0|  So Fresh, So Clean|        68|      0.332|           166.028|OutKast - So Fres...|\n",
            "|             0.885|2000|       0.627|     Sam Cooke|             0.691|     125440|             0.507|       0|2g2GkH3vZHk4lWzBj...|                 0.0| 11|   0.457|             -10.23|   1|(What A) Wonderfu...|        72|     0.0343|           128.518|Sam Cooke - (What...|\n",
            "+------------------+----+------------+--------------+------------------+-----------+------------------+--------+--------------------+--------------------+---+--------+-------------------+----+--------------------+----------+-----------+------------------+--------------------+\n",
            "only showing top 20 rows\n",
            "\n"
          ]
        }
      ],
      "source": [
        "dados.show()"
      ]
    },
    {
      "cell_type": "code",
      "source": [
        "# Remoção das variáveis que não são importantes para a clusterização\n",
        "\n",
        "dados = dados.drop(*[\"tempo\", \"explicit\"])"
      ],
      "metadata": {
        "id": "WbHIh5MwMXH5"
      },
      "execution_count": 355,
      "outputs": []
    },
    {
      "cell_type": "code",
      "execution_count": 356,
      "metadata": {
        "colab": {
          "base_uri": "https://localhost:8080/"
        },
        "id": "q_WokaRnC_UX",
        "outputId": "9fee0fd5-e912-4c6f-9f3a-6b5b22767301"
      },
      "outputs": [
        {
          "output_type": "stream",
          "name": "stdout",
          "text": [
            "root\n",
            " |-- valence: double (nullable = true)\n",
            " |-- year: integer (nullable = true)\n",
            " |-- acousticness: double (nullable = true)\n",
            " |-- artists: string (nullable = true)\n",
            " |-- danceability: double (nullable = true)\n",
            " |-- duration_ms: integer (nullable = true)\n",
            " |-- energy: double (nullable = true)\n",
            " |-- id: string (nullable = true)\n",
            " |-- instrumentalness: double (nullable = true)\n",
            " |-- key: integer (nullable = true)\n",
            " |-- liveness: double (nullable = true)\n",
            " |-- loudness: double (nullable = true)\n",
            " |-- mode: integer (nullable = true)\n",
            " |-- name: string (nullable = true)\n",
            " |-- popularity: integer (nullable = true)\n",
            " |-- speechiness: double (nullable = true)\n",
            " |-- artists_song: string (nullable = true)\n",
            "\n"
          ]
        }
      ],
      "source": [
        "dados.printSchema()"
      ]
    },
    {
      "cell_type": "code",
      "execution_count": 357,
      "metadata": {
        "colab": {
          "base_uri": "https://localhost:8080/"
        },
        "id": "qsnBtZ2hmCnj",
        "outputId": "e6fc11de-bddf-4d4b-a857-d371c1d600b3"
      },
      "outputs": [
        {
          "output_type": "execute_result",
          "data": {
            "text/plain": [
              "20311"
            ]
          },
          "metadata": {},
          "execution_count": 357
        }
      ],
      "source": [
        "dados.count()"
      ]
    },
    {
      "cell_type": "code",
      "execution_count": 358,
      "metadata": {
        "colab": {
          "base_uri": "https://localhost:8080/"
        },
        "id": "PsKsWZWjn-6V",
        "outputId": "fe933bb6-0d7d-4309-ab64-169a24b73552"
      },
      "outputs": [
        {
          "output_type": "execute_result",
          "data": {
            "text/plain": [
              "17"
            ]
          },
          "metadata": {},
          "execution_count": 358
        }
      ],
      "source": [
        "len(dados.columns)"
      ]
    },
    {
      "cell_type": "code",
      "source": [
        "dados.describe().toPandas()"
      ],
      "metadata": {
        "colab": {
          "base_uri": "https://localhost:8080/",
          "height": 330
        },
        "id": "UCV_N14cKVgd",
        "outputId": "fd24c820-17af-4753-935e-d5ab80c95d5d"
      },
      "execution_count": 359,
      "outputs": [
        {
          "output_type": "execute_result",
          "data": {
            "text/plain": [
              "  summary              valence                year         acousticness  \\\n",
              "0   count                20311               20311                20311   \n",
              "1    mean   0.4819282694106629  2010.1832012210132  0.24279884096401083   \n",
              "2  stddev  0.24641260442831556   6.063967678081537   0.2844158390976112   \n",
              "3     min                  0.0                2000                  0.0   \n",
              "4     max                  1.0                2020                0.996   \n",
              "\n",
              "     artists         danceability         duration_ms               energy  \\\n",
              "0      20311                20311               20311                20311   \n",
              "1      311.0   0.5877016444291282  228628.97582590714   0.6507661190931082   \n",
              "2        0.0  0.17132214464839737    70465.2332595994  0.22177402930797846   \n",
              "3       $NOT                  0.0               30301                  0.0   \n",
              "4  iann dior                0.986             2558287                0.999   \n",
              "\n",
              "                       id     instrumentalness                 key  \\\n",
              "0                   20311                20311               20311   \n",
              "1                    None  0.06017272052040769   5.239673083550786   \n",
              "2                    None  0.19931505572630676  3.5834791842526643   \n",
              "3  000GyYHG4uWmlXieKLij8u                  0.0                   0   \n",
              "4  7zywdG4ysfC5XNBzjQAo2o                  1.0                  11   \n",
              "\n",
              "              liveness             loudness                mode  \\\n",
              "0                20311                20311               20311   \n",
              "1  0.19400394367584137  -7.0830951208704915  0.6590517453596574   \n",
              "2  0.15775786445014234    4.320102071415199  0.4740396670519579   \n",
              "3                  0.0                -60.0                   0   \n",
              "4                0.997                1.483                   1   \n",
              "\n",
              "                                   name         popularity  \\\n",
              "0                                 20311              20311   \n",
              "1                              Infinity  56.44187878489488   \n",
              "2                                   NaN  11.56095130904621   \n",
              "3  \"\"\"The Take Over, The Breaks Over\"\"\"                  0   \n",
              "4                                   龍捲風                100   \n",
              "\n",
              "           speechiness                                       artists_song  \n",
              "0                20311                                              20311  \n",
              "1  0.10060247156713069                                               None  \n",
              "2  0.10605985582223071                                               None  \n",
              "3                  0.0  \"*NSYNC - Space Cowboy (Yippie-Yi-Yay) (feat. ...  \n",
              "4                 0.95                             iann dior - romance361  "
            ],
            "text/html": [
              "\n",
              "  <div id=\"df-a685a852-f37f-4c29-bfc1-34809345e493\" class=\"colab-df-container\">\n",
              "    <div>\n",
              "<style scoped>\n",
              "    .dataframe tbody tr th:only-of-type {\n",
              "        vertical-align: middle;\n",
              "    }\n",
              "\n",
              "    .dataframe tbody tr th {\n",
              "        vertical-align: top;\n",
              "    }\n",
              "\n",
              "    .dataframe thead th {\n",
              "        text-align: right;\n",
              "    }\n",
              "</style>\n",
              "<table border=\"1\" class=\"dataframe\">\n",
              "  <thead>\n",
              "    <tr style=\"text-align: right;\">\n",
              "      <th></th>\n",
              "      <th>summary</th>\n",
              "      <th>valence</th>\n",
              "      <th>year</th>\n",
              "      <th>acousticness</th>\n",
              "      <th>artists</th>\n",
              "      <th>danceability</th>\n",
              "      <th>duration_ms</th>\n",
              "      <th>energy</th>\n",
              "      <th>id</th>\n",
              "      <th>instrumentalness</th>\n",
              "      <th>key</th>\n",
              "      <th>liveness</th>\n",
              "      <th>loudness</th>\n",
              "      <th>mode</th>\n",
              "      <th>name</th>\n",
              "      <th>popularity</th>\n",
              "      <th>speechiness</th>\n",
              "      <th>artists_song</th>\n",
              "    </tr>\n",
              "  </thead>\n",
              "  <tbody>\n",
              "    <tr>\n",
              "      <th>0</th>\n",
              "      <td>count</td>\n",
              "      <td>20311</td>\n",
              "      <td>20311</td>\n",
              "      <td>20311</td>\n",
              "      <td>20311</td>\n",
              "      <td>20311</td>\n",
              "      <td>20311</td>\n",
              "      <td>20311</td>\n",
              "      <td>20311</td>\n",
              "      <td>20311</td>\n",
              "      <td>20311</td>\n",
              "      <td>20311</td>\n",
              "      <td>20311</td>\n",
              "      <td>20311</td>\n",
              "      <td>20311</td>\n",
              "      <td>20311</td>\n",
              "      <td>20311</td>\n",
              "      <td>20311</td>\n",
              "    </tr>\n",
              "    <tr>\n",
              "      <th>1</th>\n",
              "      <td>mean</td>\n",
              "      <td>0.4819282694106629</td>\n",
              "      <td>2010.1832012210132</td>\n",
              "      <td>0.24279884096401083</td>\n",
              "      <td>311.0</td>\n",
              "      <td>0.5877016444291282</td>\n",
              "      <td>228628.97582590714</td>\n",
              "      <td>0.6507661190931082</td>\n",
              "      <td>None</td>\n",
              "      <td>0.06017272052040769</td>\n",
              "      <td>5.239673083550786</td>\n",
              "      <td>0.19400394367584137</td>\n",
              "      <td>-7.0830951208704915</td>\n",
              "      <td>0.6590517453596574</td>\n",
              "      <td>Infinity</td>\n",
              "      <td>56.44187878489488</td>\n",
              "      <td>0.10060247156713069</td>\n",
              "      <td>None</td>\n",
              "    </tr>\n",
              "    <tr>\n",
              "      <th>2</th>\n",
              "      <td>stddev</td>\n",
              "      <td>0.24641260442831556</td>\n",
              "      <td>6.063967678081537</td>\n",
              "      <td>0.2844158390976112</td>\n",
              "      <td>0.0</td>\n",
              "      <td>0.17132214464839737</td>\n",
              "      <td>70465.2332595994</td>\n",
              "      <td>0.22177402930797846</td>\n",
              "      <td>None</td>\n",
              "      <td>0.19931505572630676</td>\n",
              "      <td>3.5834791842526643</td>\n",
              "      <td>0.15775786445014234</td>\n",
              "      <td>4.320102071415199</td>\n",
              "      <td>0.4740396670519579</td>\n",
              "      <td>NaN</td>\n",
              "      <td>11.56095130904621</td>\n",
              "      <td>0.10605985582223071</td>\n",
              "      <td>None</td>\n",
              "    </tr>\n",
              "    <tr>\n",
              "      <th>3</th>\n",
              "      <td>min</td>\n",
              "      <td>0.0</td>\n",
              "      <td>2000</td>\n",
              "      <td>0.0</td>\n",
              "      <td>$NOT</td>\n",
              "      <td>0.0</td>\n",
              "      <td>30301</td>\n",
              "      <td>0.0</td>\n",
              "      <td>000GyYHG4uWmlXieKLij8u</td>\n",
              "      <td>0.0</td>\n",
              "      <td>0</td>\n",
              "      <td>0.0</td>\n",
              "      <td>-60.0</td>\n",
              "      <td>0</td>\n",
              "      <td>\"\"\"The Take Over, The Breaks Over\"\"\"</td>\n",
              "      <td>0</td>\n",
              "      <td>0.0</td>\n",
              "      <td>\"*NSYNC - Space Cowboy (Yippie-Yi-Yay) (feat. ...</td>\n",
              "    </tr>\n",
              "    <tr>\n",
              "      <th>4</th>\n",
              "      <td>max</td>\n",
              "      <td>1.0</td>\n",
              "      <td>2020</td>\n",
              "      <td>0.996</td>\n",
              "      <td>iann dior</td>\n",
              "      <td>0.986</td>\n",
              "      <td>2558287</td>\n",
              "      <td>0.999</td>\n",
              "      <td>7zywdG4ysfC5XNBzjQAo2o</td>\n",
              "      <td>1.0</td>\n",
              "      <td>11</td>\n",
              "      <td>0.997</td>\n",
              "      <td>1.483</td>\n",
              "      <td>1</td>\n",
              "      <td>龍捲風</td>\n",
              "      <td>100</td>\n",
              "      <td>0.95</td>\n",
              "      <td>iann dior - romance361</td>\n",
              "    </tr>\n",
              "  </tbody>\n",
              "</table>\n",
              "</div>\n",
              "    <div class=\"colab-df-buttons\">\n",
              "\n",
              "  <div class=\"colab-df-container\">\n",
              "    <button class=\"colab-df-convert\" onclick=\"convertToInteractive('df-a685a852-f37f-4c29-bfc1-34809345e493')\"\n",
              "            title=\"Convert this dataframe to an interactive table.\"\n",
              "            style=\"display:none;\">\n",
              "\n",
              "  <svg xmlns=\"http://www.w3.org/2000/svg\" height=\"24px\" viewBox=\"0 -960 960 960\">\n",
              "    <path d=\"M120-120v-720h720v720H120Zm60-500h600v-160H180v160Zm220 220h160v-160H400v160Zm0 220h160v-160H400v160ZM180-400h160v-160H180v160Zm440 0h160v-160H620v160ZM180-180h160v-160H180v160Zm440 0h160v-160H620v160Z\"/>\n",
              "  </svg>\n",
              "    </button>\n",
              "\n",
              "  <style>\n",
              "    .colab-df-container {\n",
              "      display:flex;\n",
              "      gap: 12px;\n",
              "    }\n",
              "\n",
              "    .colab-df-convert {\n",
              "      background-color: #E8F0FE;\n",
              "      border: none;\n",
              "      border-radius: 50%;\n",
              "      cursor: pointer;\n",
              "      display: none;\n",
              "      fill: #1967D2;\n",
              "      height: 32px;\n",
              "      padding: 0 0 0 0;\n",
              "      width: 32px;\n",
              "    }\n",
              "\n",
              "    .colab-df-convert:hover {\n",
              "      background-color: #E2EBFA;\n",
              "      box-shadow: 0px 1px 2px rgba(60, 64, 67, 0.3), 0px 1px 3px 1px rgba(60, 64, 67, 0.15);\n",
              "      fill: #174EA6;\n",
              "    }\n",
              "\n",
              "    .colab-df-buttons div {\n",
              "      margin-bottom: 4px;\n",
              "    }\n",
              "\n",
              "    [theme=dark] .colab-df-convert {\n",
              "      background-color: #3B4455;\n",
              "      fill: #D2E3FC;\n",
              "    }\n",
              "\n",
              "    [theme=dark] .colab-df-convert:hover {\n",
              "      background-color: #434B5C;\n",
              "      box-shadow: 0px 1px 3px 1px rgba(0, 0, 0, 0.15);\n",
              "      filter: drop-shadow(0px 1px 2px rgba(0, 0, 0, 0.3));\n",
              "      fill: #FFFFFF;\n",
              "    }\n",
              "  </style>\n",
              "\n",
              "    <script>\n",
              "      const buttonEl =\n",
              "        document.querySelector('#df-a685a852-f37f-4c29-bfc1-34809345e493 button.colab-df-convert');\n",
              "      buttonEl.style.display =\n",
              "        google.colab.kernel.accessAllowed ? 'block' : 'none';\n",
              "\n",
              "      async function convertToInteractive(key) {\n",
              "        const element = document.querySelector('#df-a685a852-f37f-4c29-bfc1-34809345e493');\n",
              "        const dataTable =\n",
              "          await google.colab.kernel.invokeFunction('convertToInteractive',\n",
              "                                                    [key], {});\n",
              "        if (!dataTable) return;\n",
              "\n",
              "        const docLinkHtml = 'Like what you see? Visit the ' +\n",
              "          '<a target=\"_blank\" href=https://colab.research.google.com/notebooks/data_table.ipynb>data table notebook</a>'\n",
              "          + ' to learn more about interactive tables.';\n",
              "        element.innerHTML = '';\n",
              "        dataTable['output_type'] = 'display_data';\n",
              "        await google.colab.output.renderOutput(dataTable, element);\n",
              "        const docLink = document.createElement('div');\n",
              "        docLink.innerHTML = docLinkHtml;\n",
              "        element.appendChild(docLink);\n",
              "      }\n",
              "    </script>\n",
              "  </div>\n",
              "\n",
              "\n",
              "<div id=\"df-645a1618-64e8-4724-b80a-ee3132221c17\">\n",
              "  <button class=\"colab-df-quickchart\" onclick=\"quickchart('df-645a1618-64e8-4724-b80a-ee3132221c17')\"\n",
              "            title=\"Suggest charts\"\n",
              "            style=\"display:none;\">\n",
              "\n",
              "<svg xmlns=\"http://www.w3.org/2000/svg\" height=\"24px\"viewBox=\"0 0 24 24\"\n",
              "     width=\"24px\">\n",
              "    <g>\n",
              "        <path d=\"M19 3H5c-1.1 0-2 .9-2 2v14c0 1.1.9 2 2 2h14c1.1 0 2-.9 2-2V5c0-1.1-.9-2-2-2zM9 17H7v-7h2v7zm4 0h-2V7h2v10zm4 0h-2v-4h2v4z\"/>\n",
              "    </g>\n",
              "</svg>\n",
              "  </button>\n",
              "\n",
              "<style>\n",
              "  .colab-df-quickchart {\n",
              "      --bg-color: #E8F0FE;\n",
              "      --fill-color: #1967D2;\n",
              "      --hover-bg-color: #E2EBFA;\n",
              "      --hover-fill-color: #174EA6;\n",
              "      --disabled-fill-color: #AAA;\n",
              "      --disabled-bg-color: #DDD;\n",
              "  }\n",
              "\n",
              "  [theme=dark] .colab-df-quickchart {\n",
              "      --bg-color: #3B4455;\n",
              "      --fill-color: #D2E3FC;\n",
              "      --hover-bg-color: #434B5C;\n",
              "      --hover-fill-color: #FFFFFF;\n",
              "      --disabled-bg-color: #3B4455;\n",
              "      --disabled-fill-color: #666;\n",
              "  }\n",
              "\n",
              "  .colab-df-quickchart {\n",
              "    background-color: var(--bg-color);\n",
              "    border: none;\n",
              "    border-radius: 50%;\n",
              "    cursor: pointer;\n",
              "    display: none;\n",
              "    fill: var(--fill-color);\n",
              "    height: 32px;\n",
              "    padding: 0;\n",
              "    width: 32px;\n",
              "  }\n",
              "\n",
              "  .colab-df-quickchart:hover {\n",
              "    background-color: var(--hover-bg-color);\n",
              "    box-shadow: 0 1px 2px rgba(60, 64, 67, 0.3), 0 1px 3px 1px rgba(60, 64, 67, 0.15);\n",
              "    fill: var(--button-hover-fill-color);\n",
              "  }\n",
              "\n",
              "  .colab-df-quickchart-complete:disabled,\n",
              "  .colab-df-quickchart-complete:disabled:hover {\n",
              "    background-color: var(--disabled-bg-color);\n",
              "    fill: var(--disabled-fill-color);\n",
              "    box-shadow: none;\n",
              "  }\n",
              "\n",
              "  .colab-df-spinner {\n",
              "    border: 2px solid var(--fill-color);\n",
              "    border-color: transparent;\n",
              "    border-bottom-color: var(--fill-color);\n",
              "    animation:\n",
              "      spin 1s steps(1) infinite;\n",
              "  }\n",
              "\n",
              "  @keyframes spin {\n",
              "    0% {\n",
              "      border-color: transparent;\n",
              "      border-bottom-color: var(--fill-color);\n",
              "      border-left-color: var(--fill-color);\n",
              "    }\n",
              "    20% {\n",
              "      border-color: transparent;\n",
              "      border-left-color: var(--fill-color);\n",
              "      border-top-color: var(--fill-color);\n",
              "    }\n",
              "    30% {\n",
              "      border-color: transparent;\n",
              "      border-left-color: var(--fill-color);\n",
              "      border-top-color: var(--fill-color);\n",
              "      border-right-color: var(--fill-color);\n",
              "    }\n",
              "    40% {\n",
              "      border-color: transparent;\n",
              "      border-right-color: var(--fill-color);\n",
              "      border-top-color: var(--fill-color);\n",
              "    }\n",
              "    60% {\n",
              "      border-color: transparent;\n",
              "      border-right-color: var(--fill-color);\n",
              "    }\n",
              "    80% {\n",
              "      border-color: transparent;\n",
              "      border-right-color: var(--fill-color);\n",
              "      border-bottom-color: var(--fill-color);\n",
              "    }\n",
              "    90% {\n",
              "      border-color: transparent;\n",
              "      border-bottom-color: var(--fill-color);\n",
              "    }\n",
              "  }\n",
              "</style>\n",
              "\n",
              "  <script>\n",
              "    async function quickchart(key) {\n",
              "      const quickchartButtonEl =\n",
              "        document.querySelector('#' + key + ' button');\n",
              "      quickchartButtonEl.disabled = true;  // To prevent multiple clicks.\n",
              "      quickchartButtonEl.classList.add('colab-df-spinner');\n",
              "      try {\n",
              "        const charts = await google.colab.kernel.invokeFunction(\n",
              "            'suggestCharts', [key], {});\n",
              "      } catch (error) {\n",
              "        console.error('Error during call to suggestCharts:', error);\n",
              "      }\n",
              "      quickchartButtonEl.classList.remove('colab-df-spinner');\n",
              "      quickchartButtonEl.classList.add('colab-df-quickchart-complete');\n",
              "    }\n",
              "    (() => {\n",
              "      let quickchartButtonEl =\n",
              "        document.querySelector('#df-645a1618-64e8-4724-b80a-ee3132221c17 button');\n",
              "      quickchartButtonEl.style.display =\n",
              "        google.colab.kernel.accessAllowed ? 'block' : 'none';\n",
              "    })();\n",
              "  </script>\n",
              "</div>\n",
              "\n",
              "    </div>\n",
              "  </div>\n"
            ],
            "application/vnd.google.colaboratory.intrinsic+json": {
              "type": "dataframe",
              "summary": "{\n  \"name\": \"dados\",\n  \"rows\": 5,\n  \"fields\": [\n    {\n      \"column\": \"summary\",\n      \"properties\": {\n        \"dtype\": \"string\",\n        \"num_unique_values\": 5,\n        \"samples\": [\n          \"mean\",\n          \"max\",\n          \"stddev\"\n        ],\n        \"semantic_type\": \"\",\n        \"description\": \"\"\n      }\n    },\n    {\n      \"column\": \"valence\",\n      \"properties\": {\n        \"dtype\": \"string\",\n        \"num_unique_values\": 5,\n        \"samples\": [\n          \"0.4819282694106629\",\n          \"1.0\",\n          \"0.24641260442831556\"\n        ],\n        \"semantic_type\": \"\",\n        \"description\": \"\"\n      }\n    },\n    {\n      \"column\": \"year\",\n      \"properties\": {\n        \"dtype\": \"string\",\n        \"num_unique_values\": 5,\n        \"samples\": [\n          \"2010.1832012210132\",\n          \"2020\",\n          \"6.063967678081537\"\n        ],\n        \"semantic_type\": \"\",\n        \"description\": \"\"\n      }\n    },\n    {\n      \"column\": \"acousticness\",\n      \"properties\": {\n        \"dtype\": \"string\",\n        \"num_unique_values\": 5,\n        \"samples\": [\n          \"0.24279884096401083\",\n          \"0.996\",\n          \"0.2844158390976112\"\n        ],\n        \"semantic_type\": \"\",\n        \"description\": \"\"\n      }\n    },\n    {\n      \"column\": \"artists\",\n      \"properties\": {\n        \"dtype\": \"string\",\n        \"num_unique_values\": 5,\n        \"samples\": [\n          \"311.0\",\n          \"iann dior\",\n          \"0.0\"\n        ],\n        \"semantic_type\": \"\",\n        \"description\": \"\"\n      }\n    },\n    {\n      \"column\": \"danceability\",\n      \"properties\": {\n        \"dtype\": \"string\",\n        \"num_unique_values\": 5,\n        \"samples\": [\n          \"0.5877016444291282\",\n          \"0.986\",\n          \"0.17132214464839737\"\n        ],\n        \"semantic_type\": \"\",\n        \"description\": \"\"\n      }\n    },\n    {\n      \"column\": \"duration_ms\",\n      \"properties\": {\n        \"dtype\": \"string\",\n        \"num_unique_values\": 5,\n        \"samples\": [\n          \"228628.97582590714\",\n          \"2558287\",\n          \"70465.2332595994\"\n        ],\n        \"semantic_type\": \"\",\n        \"description\": \"\"\n      }\n    },\n    {\n      \"column\": \"energy\",\n      \"properties\": {\n        \"dtype\": \"string\",\n        \"num_unique_values\": 5,\n        \"samples\": [\n          \"0.6507661190931082\",\n          \"0.999\",\n          \"0.22177402930797846\"\n        ],\n        \"semantic_type\": \"\",\n        \"description\": \"\"\n      }\n    },\n    {\n      \"column\": \"id\",\n      \"properties\": {\n        \"dtype\": \"string\",\n        \"num_unique_values\": 3,\n        \"samples\": [\n          \"20311\",\n          \"000GyYHG4uWmlXieKLij8u\",\n          \"7zywdG4ysfC5XNBzjQAo2o\"\n        ],\n        \"semantic_type\": \"\",\n        \"description\": \"\"\n      }\n    },\n    {\n      \"column\": \"instrumentalness\",\n      \"properties\": {\n        \"dtype\": \"string\",\n        \"num_unique_values\": 5,\n        \"samples\": [\n          \"0.06017272052040769\",\n          \"1.0\",\n          \"0.19931505572630676\"\n        ],\n        \"semantic_type\": \"\",\n        \"description\": \"\"\n      }\n    },\n    {\n      \"column\": \"key\",\n      \"properties\": {\n        \"dtype\": \"string\",\n        \"num_unique_values\": 5,\n        \"samples\": [\n          \"5.239673083550786\",\n          \"11\",\n          \"3.5834791842526643\"\n        ],\n        \"semantic_type\": \"\",\n        \"description\": \"\"\n      }\n    },\n    {\n      \"column\": \"liveness\",\n      \"properties\": {\n        \"dtype\": \"string\",\n        \"num_unique_values\": 5,\n        \"samples\": [\n          \"0.19400394367584137\",\n          \"0.997\",\n          \"0.15775786445014234\"\n        ],\n        \"semantic_type\": \"\",\n        \"description\": \"\"\n      }\n    },\n    {\n      \"column\": \"loudness\",\n      \"properties\": {\n        \"dtype\": \"string\",\n        \"num_unique_values\": 5,\n        \"samples\": [\n          \"-7.0830951208704915\",\n          \"1.483\",\n          \"4.320102071415199\"\n        ],\n        \"semantic_type\": \"\",\n        \"description\": \"\"\n      }\n    },\n    {\n      \"column\": \"mode\",\n      \"properties\": {\n        \"dtype\": \"string\",\n        \"num_unique_values\": 5,\n        \"samples\": [\n          \"0.6590517453596574\",\n          \"1\",\n          \"0.4740396670519579\"\n        ],\n        \"semantic_type\": \"\",\n        \"description\": \"\"\n      }\n    },\n    {\n      \"column\": \"name\",\n      \"properties\": {\n        \"dtype\": \"string\",\n        \"num_unique_values\": 5,\n        \"samples\": [\n          \"Infinity\",\n          \"\\u9f8d\\u6372\\u98a8\",\n          \"NaN\"\n        ],\n        \"semantic_type\": \"\",\n        \"description\": \"\"\n      }\n    },\n    {\n      \"column\": \"popularity\",\n      \"properties\": {\n        \"dtype\": \"string\",\n        \"num_unique_values\": 5,\n        \"samples\": [\n          \"56.44187878489488\",\n          \"100\",\n          \"11.56095130904621\"\n        ],\n        \"semantic_type\": \"\",\n        \"description\": \"\"\n      }\n    },\n    {\n      \"column\": \"speechiness\",\n      \"properties\": {\n        \"dtype\": \"string\",\n        \"num_unique_values\": 5,\n        \"samples\": [\n          \"0.10060247156713069\",\n          \"0.95\",\n          \"0.10605985582223071\"\n        ],\n        \"semantic_type\": \"\",\n        \"description\": \"\"\n      }\n    },\n    {\n      \"column\": \"artists_song\",\n      \"properties\": {\n        \"dtype\": \"string\",\n        \"num_unique_values\": 3,\n        \"samples\": [\n          \"20311\",\n          \"\\\"*NSYNC - Space Cowboy (Yippie-Yi-Yay) (feat. Lisa \\\"\\\"Left Eye\\\"\\\" Lopes)\\\"\",\n          \"iann dior - romance361\"\n        ],\n        \"semantic_type\": \"\",\n        \"description\": \"\"\n      }\n    }\n  ]\n}"
            }
          },
          "metadata": {},
          "execution_count": 359
        }
      ]
    },
    {
      "cell_type": "code",
      "execution_count": 360,
      "metadata": {
        "colab": {
          "base_uri": "https://localhost:8080/"
        },
        "id": "wnCToGjHpb_0",
        "outputId": "3bc4a1ad-ff29-43ce-d2b2-088667419849"
      },
      "outputs": [
        {
          "output_type": "stream",
          "name": "stdout",
          "text": [
            "+-------+----+------------+-------+------------+-----------+------+---+----------------+---+--------+--------+----+----+----------+-----------+------------+\n",
            "|valence|year|acousticness|artists|danceability|duration_ms|energy| id|instrumentalness|key|liveness|loudness|mode|name|popularity|speechiness|artists_song|\n",
            "+-------+----+------------+-------+------------+-----------+------+---+----------------+---+--------+--------+----+----+----------+-----------+------------+\n",
            "|      0|   0|           0|      0|           0|          0|     0|  0|               0|  0|       0|       0|   0|   0|         0|          0|           0|\n",
            "+-------+----+------------+-------+------------+-----------+------+---+----------------+---+--------+--------+----+----+----------+-----------+------------+\n",
            "\n"
          ]
        }
      ],
      "source": [
        "# Verificação de valores ausentes\n",
        "\n",
        "dados.select([f.count(f.when(f.isnull(c), 1)).alias(c) for c in dados.columns]).show()"
      ]
    },
    {
      "cell_type": "code",
      "execution_count": 361,
      "metadata": {
        "colab": {
          "base_uri": "https://localhost:8080/"
        },
        "id": "fFkqTJE8q0Wu",
        "outputId": "9fbadcfc-6792-45fc-ec3e-96a4d9f4868e"
      },
      "outputs": [
        {
          "output_type": "stream",
          "name": "stdout",
          "text": [
            "[Row(year=2000), Row(year=2001), Row(year=2002), Row(year=2003), Row(year=2004), Row(year=2005), Row(year=2006), Row(year=2007), Row(year=2008), Row(year=2009), Row(year=2010), Row(year=2011), Row(year=2012), Row(year=2013), Row(year=2014), Row(year=2015), Row(year=2016), Row(year=2017), Row(year=2018), Row(year=2019), Row(year=2020)]\n"
          ]
        }
      ],
      "source": [
        "# Verificação dos anos\n",
        "\n",
        "print(sorted(dados.select('year').distinct().collect()))"
      ]
    },
    {
      "cell_type": "code",
      "execution_count": 362,
      "metadata": {
        "colab": {
          "base_uri": "https://localhost:8080/",
          "height": 542
        },
        "id": "p-F7xIMDHcti",
        "outputId": "9b49d397-31ac-45ed-f661-c4fc0cfbe803"
      },
      "outputs": [
        {
          "output_type": "display_data",
          "data": {
            "text/html": [
              "<html>\n",
              "<head><meta charset=\"utf-8\" /></head>\n",
              "<body>\n",
              "    <div>            <script src=\"https://cdnjs.cloudflare.com/ajax/libs/mathjax/2.7.5/MathJax.js?config=TeX-AMS-MML_SVG\"></script><script type=\"text/javascript\">if (window.MathJax && window.MathJax.Hub && window.MathJax.Hub.Config) {window.MathJax.Hub.Config({SVG: {font: \"STIX-Web\"}});}</script>                <script type=\"text/javascript\">window.PlotlyConfig = {MathJaxConfig: 'local'};</script>\n",
              "        <script charset=\"utf-8\" src=\"https://cdn.plot.ly/plotly-2.35.2.min.js\"></script>                <div id=\"a17c402a-89bb-4215-8c2a-af537e88518c\" class=\"plotly-graph-div\" style=\"height:525px; width:100%;\"></div>            <script type=\"text/javascript\">                                    window.PLOTLYENV=window.PLOTLYENV || {};                                    if (document.getElementById(\"a17c402a-89bb-4215-8c2a-af537e88518c\")) {                    Plotly.newPlot(                        \"a17c402a-89bb-4215-8c2a-af537e88518c\",                        [{\"hovertemplate\":\"year=%{x}\\u003cbr\\u003emean_loudness=%{y}\\u003cextra\\u003e\\u003c\\u002fextra\\u003e\",\"legendgroup\":\"\",\"line\":{\"color\":\"#636efa\",\"dash\":\"solid\"},\"marker\":{\"symbol\":\"circle\"},\"mode\":\"lines+markers\",\"name\":\"\",\"orientation\":\"v\",\"showlegend\":false,\"x\":[2000,2001,2002,2003,2004,2005,2006,2007,2008,2009,2010,2011,2012,2013,2014,2015,2016,2017,2018,2019,2020],\"xaxis\":\"x\",\"y\":[-8.089236447520188,-8.191369098712435,-7.412277168494516,-7.3265748898678416,-7.483531283138911,-6.960131440588842,-6.717081419624201,-6.682876059322041,-6.396823333333334,-6.851883744855967,-6.683561850802643,-7.090958120531153,-6.934892354124753,-7.245521298174443,-6.643636461704424,-7.285527913809984,-7.939176608187139,-7.245307533539727,-6.709126851851857,-6.651669222343926,-6.53142521739131],\"yaxis\":\"y\",\"type\":\"scatter\"}],                        {\"template\":{\"data\":{\"histogram2dcontour\":[{\"type\":\"histogram2dcontour\",\"colorbar\":{\"outlinewidth\":0,\"ticks\":\"\"},\"colorscale\":[[0.0,\"#0d0887\"],[0.1111111111111111,\"#46039f\"],[0.2222222222222222,\"#7201a8\"],[0.3333333333333333,\"#9c179e\"],[0.4444444444444444,\"#bd3786\"],[0.5555555555555556,\"#d8576b\"],[0.6666666666666666,\"#ed7953\"],[0.7777777777777778,\"#fb9f3a\"],[0.8888888888888888,\"#fdca26\"],[1.0,\"#f0f921\"]]}],\"choropleth\":[{\"type\":\"choropleth\",\"colorbar\":{\"outlinewidth\":0,\"ticks\":\"\"}}],\"histogram2d\":[{\"type\":\"histogram2d\",\"colorbar\":{\"outlinewidth\":0,\"ticks\":\"\"},\"colorscale\":[[0.0,\"#0d0887\"],[0.1111111111111111,\"#46039f\"],[0.2222222222222222,\"#7201a8\"],[0.3333333333333333,\"#9c179e\"],[0.4444444444444444,\"#bd3786\"],[0.5555555555555556,\"#d8576b\"],[0.6666666666666666,\"#ed7953\"],[0.7777777777777778,\"#fb9f3a\"],[0.8888888888888888,\"#fdca26\"],[1.0,\"#f0f921\"]]}],\"heatmap\":[{\"type\":\"heatmap\",\"colorbar\":{\"outlinewidth\":0,\"ticks\":\"\"},\"colorscale\":[[0.0,\"#0d0887\"],[0.1111111111111111,\"#46039f\"],[0.2222222222222222,\"#7201a8\"],[0.3333333333333333,\"#9c179e\"],[0.4444444444444444,\"#bd3786\"],[0.5555555555555556,\"#d8576b\"],[0.6666666666666666,\"#ed7953\"],[0.7777777777777778,\"#fb9f3a\"],[0.8888888888888888,\"#fdca26\"],[1.0,\"#f0f921\"]]}],\"heatmapgl\":[{\"type\":\"heatmapgl\",\"colorbar\":{\"outlinewidth\":0,\"ticks\":\"\"},\"colorscale\":[[0.0,\"#0d0887\"],[0.1111111111111111,\"#46039f\"],[0.2222222222222222,\"#7201a8\"],[0.3333333333333333,\"#9c179e\"],[0.4444444444444444,\"#bd3786\"],[0.5555555555555556,\"#d8576b\"],[0.6666666666666666,\"#ed7953\"],[0.7777777777777778,\"#fb9f3a\"],[0.8888888888888888,\"#fdca26\"],[1.0,\"#f0f921\"]]}],\"contourcarpet\":[{\"type\":\"contourcarpet\",\"colorbar\":{\"outlinewidth\":0,\"ticks\":\"\"}}],\"contour\":[{\"type\":\"contour\",\"colorbar\":{\"outlinewidth\":0,\"ticks\":\"\"},\"colorscale\":[[0.0,\"#0d0887\"],[0.1111111111111111,\"#46039f\"],[0.2222222222222222,\"#7201a8\"],[0.3333333333333333,\"#9c179e\"],[0.4444444444444444,\"#bd3786\"],[0.5555555555555556,\"#d8576b\"],[0.6666666666666666,\"#ed7953\"],[0.7777777777777778,\"#fb9f3a\"],[0.8888888888888888,\"#fdca26\"],[1.0,\"#f0f921\"]]}],\"surface\":[{\"type\":\"surface\",\"colorbar\":{\"outlinewidth\":0,\"ticks\":\"\"},\"colorscale\":[[0.0,\"#0d0887\"],[0.1111111111111111,\"#46039f\"],[0.2222222222222222,\"#7201a8\"],[0.3333333333333333,\"#9c179e\"],[0.4444444444444444,\"#bd3786\"],[0.5555555555555556,\"#d8576b\"],[0.6666666666666666,\"#ed7953\"],[0.7777777777777778,\"#fb9f3a\"],[0.8888888888888888,\"#fdca26\"],[1.0,\"#f0f921\"]]}],\"mesh3d\":[{\"type\":\"mesh3d\",\"colorbar\":{\"outlinewidth\":0,\"ticks\":\"\"}}],\"scatter\":[{\"fillpattern\":{\"fillmode\":\"overlay\",\"size\":10,\"solidity\":0.2},\"type\":\"scatter\"}],\"parcoords\":[{\"type\":\"parcoords\",\"line\":{\"colorbar\":{\"outlinewidth\":0,\"ticks\":\"\"}}}],\"scatterpolargl\":[{\"type\":\"scatterpolargl\",\"marker\":{\"colorbar\":{\"outlinewidth\":0,\"ticks\":\"\"}}}],\"bar\":[{\"error_x\":{\"color\":\"#2a3f5f\"},\"error_y\":{\"color\":\"#2a3f5f\"},\"marker\":{\"line\":{\"color\":\"#E5ECF6\",\"width\":0.5},\"pattern\":{\"fillmode\":\"overlay\",\"size\":10,\"solidity\":0.2}},\"type\":\"bar\"}],\"scattergeo\":[{\"type\":\"scattergeo\",\"marker\":{\"colorbar\":{\"outlinewidth\":0,\"ticks\":\"\"}}}],\"scatterpolar\":[{\"type\":\"scatterpolar\",\"marker\":{\"colorbar\":{\"outlinewidth\":0,\"ticks\":\"\"}}}],\"histogram\":[{\"marker\":{\"pattern\":{\"fillmode\":\"overlay\",\"size\":10,\"solidity\":0.2}},\"type\":\"histogram\"}],\"scattergl\":[{\"type\":\"scattergl\",\"marker\":{\"colorbar\":{\"outlinewidth\":0,\"ticks\":\"\"}}}],\"scatter3d\":[{\"type\":\"scatter3d\",\"line\":{\"colorbar\":{\"outlinewidth\":0,\"ticks\":\"\"}},\"marker\":{\"colorbar\":{\"outlinewidth\":0,\"ticks\":\"\"}}}],\"scattermapbox\":[{\"type\":\"scattermapbox\",\"marker\":{\"colorbar\":{\"outlinewidth\":0,\"ticks\":\"\"}}}],\"scatterternary\":[{\"type\":\"scatterternary\",\"marker\":{\"colorbar\":{\"outlinewidth\":0,\"ticks\":\"\"}}}],\"scattercarpet\":[{\"type\":\"scattercarpet\",\"marker\":{\"colorbar\":{\"outlinewidth\":0,\"ticks\":\"\"}}}],\"carpet\":[{\"aaxis\":{\"endlinecolor\":\"#2a3f5f\",\"gridcolor\":\"white\",\"linecolor\":\"white\",\"minorgridcolor\":\"white\",\"startlinecolor\":\"#2a3f5f\"},\"baxis\":{\"endlinecolor\":\"#2a3f5f\",\"gridcolor\":\"white\",\"linecolor\":\"white\",\"minorgridcolor\":\"white\",\"startlinecolor\":\"#2a3f5f\"},\"type\":\"carpet\"}],\"table\":[{\"cells\":{\"fill\":{\"color\":\"#EBF0F8\"},\"line\":{\"color\":\"white\"}},\"header\":{\"fill\":{\"color\":\"#C8D4E3\"},\"line\":{\"color\":\"white\"}},\"type\":\"table\"}],\"barpolar\":[{\"marker\":{\"line\":{\"color\":\"#E5ECF6\",\"width\":0.5},\"pattern\":{\"fillmode\":\"overlay\",\"size\":10,\"solidity\":0.2}},\"type\":\"barpolar\"}],\"pie\":[{\"automargin\":true,\"type\":\"pie\"}]},\"layout\":{\"autotypenumbers\":\"strict\",\"colorway\":[\"#636efa\",\"#EF553B\",\"#00cc96\",\"#ab63fa\",\"#FFA15A\",\"#19d3f3\",\"#FF6692\",\"#B6E880\",\"#FF97FF\",\"#FECB52\"],\"font\":{\"color\":\"#2a3f5f\"},\"hovermode\":\"closest\",\"hoverlabel\":{\"align\":\"left\"},\"paper_bgcolor\":\"white\",\"plot_bgcolor\":\"#E5ECF6\",\"polar\":{\"bgcolor\":\"#E5ECF6\",\"angularaxis\":{\"gridcolor\":\"white\",\"linecolor\":\"white\",\"ticks\":\"\"},\"radialaxis\":{\"gridcolor\":\"white\",\"linecolor\":\"white\",\"ticks\":\"\"}},\"ternary\":{\"bgcolor\":\"#E5ECF6\",\"aaxis\":{\"gridcolor\":\"white\",\"linecolor\":\"white\",\"ticks\":\"\"},\"baxis\":{\"gridcolor\":\"white\",\"linecolor\":\"white\",\"ticks\":\"\"},\"caxis\":{\"gridcolor\":\"white\",\"linecolor\":\"white\",\"ticks\":\"\"}},\"coloraxis\":{\"colorbar\":{\"outlinewidth\":0,\"ticks\":\"\"}},\"colorscale\":{\"sequential\":[[0.0,\"#0d0887\"],[0.1111111111111111,\"#46039f\"],[0.2222222222222222,\"#7201a8\"],[0.3333333333333333,\"#9c179e\"],[0.4444444444444444,\"#bd3786\"],[0.5555555555555556,\"#d8576b\"],[0.6666666666666666,\"#ed7953\"],[0.7777777777777778,\"#fb9f3a\"],[0.8888888888888888,\"#fdca26\"],[1.0,\"#f0f921\"]],\"sequentialminus\":[[0.0,\"#0d0887\"],[0.1111111111111111,\"#46039f\"],[0.2222222222222222,\"#7201a8\"],[0.3333333333333333,\"#9c179e\"],[0.4444444444444444,\"#bd3786\"],[0.5555555555555556,\"#d8576b\"],[0.6666666666666666,\"#ed7953\"],[0.7777777777777778,\"#fb9f3a\"],[0.8888888888888888,\"#fdca26\"],[1.0,\"#f0f921\"]],\"diverging\":[[0,\"#8e0152\"],[0.1,\"#c51b7d\"],[0.2,\"#de77ae\"],[0.3,\"#f1b6da\"],[0.4,\"#fde0ef\"],[0.5,\"#f7f7f7\"],[0.6,\"#e6f5d0\"],[0.7,\"#b8e186\"],[0.8,\"#7fbc41\"],[0.9,\"#4d9221\"],[1,\"#276419\"]]},\"xaxis\":{\"gridcolor\":\"white\",\"linecolor\":\"white\",\"ticks\":\"\",\"title\":{\"standoff\":15},\"zerolinecolor\":\"white\",\"automargin\":true,\"zerolinewidth\":2},\"yaxis\":{\"gridcolor\":\"white\",\"linecolor\":\"white\",\"ticks\":\"\",\"title\":{\"standoff\":15},\"zerolinecolor\":\"white\",\"automargin\":true,\"zerolinewidth\":2},\"scene\":{\"xaxis\":{\"backgroundcolor\":\"#E5ECF6\",\"gridcolor\":\"white\",\"linecolor\":\"white\",\"showbackground\":true,\"ticks\":\"\",\"zerolinecolor\":\"white\",\"gridwidth\":2},\"yaxis\":{\"backgroundcolor\":\"#E5ECF6\",\"gridcolor\":\"white\",\"linecolor\":\"white\",\"showbackground\":true,\"ticks\":\"\",\"zerolinecolor\":\"white\",\"gridwidth\":2},\"zaxis\":{\"backgroundcolor\":\"#E5ECF6\",\"gridcolor\":\"white\",\"linecolor\":\"white\",\"showbackground\":true,\"ticks\":\"\",\"zerolinecolor\":\"white\",\"gridwidth\":2}},\"shapedefaults\":{\"line\":{\"color\":\"#2a3f5f\"}},\"annotationdefaults\":{\"arrowcolor\":\"#2a3f5f\",\"arrowhead\":0,\"arrowwidth\":1},\"geo\":{\"bgcolor\":\"white\",\"landcolor\":\"#E5ECF6\",\"subunitcolor\":\"white\",\"showland\":true,\"showlakes\":true,\"lakecolor\":\"white\"},\"title\":{\"x\":0.05},\"mapbox\":{\"style\":\"light\"}}},\"xaxis\":{\"anchor\":\"y\",\"domain\":[0.0,1.0],\"title\":{\"text\":\"year\"}},\"yaxis\":{\"anchor\":\"x\",\"domain\":[0.0,1.0],\"title\":{\"text\":\"mean_loudness\"}},\"legend\":{\"tracegroupgap\":0},\"title\":{\"text\":\"Variação da intensidade sonora conforme os anos\"}},                        {\"responsive\": true}                    ).then(function(){\n",
              "                            \n",
              "var gd = document.getElementById('a17c402a-89bb-4215-8c2a-af537e88518c');\n",
              "var x = new MutationObserver(function (mutations, observer) {{\n",
              "        var display = window.getComputedStyle(gd).display;\n",
              "        if (!display || display === 'none') {{\n",
              "            console.log([gd, 'removed!']);\n",
              "            Plotly.purge(gd);\n",
              "            observer.disconnect();\n",
              "        }}\n",
              "}});\n",
              "\n",
              "// Listen for the removal of the full notebook cells\n",
              "var notebookContainer = gd.closest('#notebook-container');\n",
              "if (notebookContainer) {{\n",
              "    x.observe(notebookContainer, {childList: true});\n",
              "}}\n",
              "\n",
              "// Listen for the clearing of the current output cell\n",
              "var outputEl = gd.closest('.output');\n",
              "if (outputEl) {{\n",
              "    x.observe(outputEl, {childList: true});\n",
              "}}\n",
              "\n",
              "                        })                };                            </script>        </div>\n",
              "</body>\n",
              "</html>"
            ]
          },
          "metadata": {}
        }
      ],
      "source": [
        "# Média da variação intensidade sonora nos anos\n",
        "\n",
        "import plotly.graph_objects as go\n",
        "import plotly.express as px\n",
        "\n",
        "mean_loudness = dados.groupBy('year').agg(f.mean('loudness').alias('mean_loudness')).sort('year')\n",
        "\n",
        "fig = px.line(mean_loudness, x='year', y='mean_loudness', markers=True, title='Variação da intensidade sonora conforme os anos')\n",
        "fig.show()"
      ]
    },
    {
      "cell_type": "code",
      "execution_count": 363,
      "metadata": {
        "colab": {
          "base_uri": "https://localhost:8080/",
          "height": 542
        },
        "id": "RTtS_DkAI3kL",
        "outputId": "a28d6815-cb87-450d-dbc7-00f6ea854874"
      },
      "outputs": [
        {
          "output_type": "display_data",
          "data": {
            "text/html": [
              "<html>\n",
              "<head><meta charset=\"utf-8\" /></head>\n",
              "<body>\n",
              "    <div>            <script src=\"https://cdnjs.cloudflare.com/ajax/libs/mathjax/2.7.5/MathJax.js?config=TeX-AMS-MML_SVG\"></script><script type=\"text/javascript\">if (window.MathJax && window.MathJax.Hub && window.MathJax.Hub.Config) {window.MathJax.Hub.Config({SVG: {font: \"STIX-Web\"}});}</script>                <script type=\"text/javascript\">window.PlotlyConfig = {MathJaxConfig: 'local'};</script>\n",
              "        <script charset=\"utf-8\" src=\"https://cdn.plot.ly/plotly-2.35.2.min.js\"></script>                <div id=\"033a6b0a-208c-4e39-9ed4-2b143995c6c8\" class=\"plotly-graph-div\" style=\"height:525px; width:100%;\"></div>            <script type=\"text/javascript\">                                    window.PLOTLYENV=window.PLOTLYENV || {};                                    if (document.getElementById(\"033a6b0a-208c-4e39-9ed4-2b143995c6c8\")) {                    Plotly.newPlot(                        \"033a6b0a-208c-4e39-9ed4-2b143995c6c8\",                        [{\"name\":\"Acousticness\",\"x\":[2000,2001,2002,2003,2004,2005,2006,2007,2008,2009,2010,2011,2012,2013,2014,2015,2016,2017,2018,2019,2020],\"y\":[0.2693583816608997,0.2669354907510731,0.26444065996011945,0.24780881274229077,0.25335919420996794,0.22295907355415368,0.24636517528183702,0.21417659001059342,0.21278602394444446,0.24380439629629633,0.2225588288951843,0.23820235421859035,0.22726748903420532,0.2448806975963488,0.22943150711974125,0.24414439007835462,0.2787434925029238,0.2658406089783284,0.2472533966666668,0.25326982573932066,0.21642852741739146],\"type\":\"scatter\"},{\"name\":\"Valence\",\"x\":[2000,2001,2002,2003,2004,2005,2006,2007,2008,2009,2010,2011,2012,2013,2014,2015,2016,2017,2018,2019,2020],\"y\":[0.5400256055363327,0.5268511802575107,0.5290741774675966,0.5074680616740086,0.5082010604453868,0.5123822292323869,0.4892432150313146,0.495803813559322,0.5030366666666671,0.48621656378600847,0.5068032200188858,0.4734661899897855,0.46014862173038223,0.4527021298174445,0.45837626752966604,0.42760842311459346,0.4286349707602341,0.43006009287925717,0.4386751944444442,0.46453713033954025,0.48922695652173914],\"type\":\"scatter\"},{\"name\":\"Danceability\",\"x\":[2000,2001,2002,2003,2004,2005,2006,2007,2008,2009,2010,2011,2012,2013,2014,2015,2016,2017,2018,2019,2020],\"y\":[0.5828024221453287,0.5775589055793992,0.564100997008973,0.5643772026431721,0.5525721102863199,0.5743847528916927,0.5459059498956159,0.5510181144067791,0.5761366666666664,0.5507514403292184,0.5662419263456095,0.5502483146067417,0.5687155935613686,0.5685738336713999,0.5899537216828474,0.5928045053868769,0.5993391812865496,0.6417162022703818,0.6645555555555558,0.6538871851040513,0.6828695652173916],\"type\":\"scatter\"},{\"name\":\"Energy\",\"x\":[2000,2001,2002,2003,2004,2005,2006,2007,2008,2009,2010,2011,2012,2013,2014,2015,2016,2017,2018,2019,2020],\"y\":[0.6270735755478658,0.6381052575107306,0.6548407696909274,0.6623830396475766,0.6593516436903505,0.6725045425867509,0.679125636743215,0.6930954555084744,0.6843681777777779,0.6774364609053491,0.6926804910292728,0.6771248416751784,0.6736088732394369,0.657273630831643,0.6570088241639692,0.6245570107737527,0.5927858911111107,0.5911920206398344,0.6076108333333327,0.6140382256297917,0.6288033043478263],\"type\":\"scatter\"},{\"name\":\"Instrumentalness\",\"x\":[2000,2001,2002,2003,2004,2005,2006,2007,2008,2009,2010,2011,2012,2013,2014,2015,2016,2017,2018,2019,2020],\"y\":[0.09920786096885804,0.11825955453862662,0.09530536143569286,0.09519129531938327,0.06931562739130433,0.08886938833859094,0.0638411130375783,0.07266245843220343,0.046571429844444436,0.06436836983539092,0.06946974695939569,0.06735969472931563,0.05149922559356137,0.07349171493914808,0.03143778254584681,0.04995203572967681,0.05058065850292396,0.026528930949432393,0.01831583423148149,0.017838889769989038,0.009971823060869566],\"type\":\"scatter\"},{\"name\":\"Liveness\",\"x\":[2000,2001,2002,2003,2004,2005,2006,2007,2008,2009,2010,2011,2012,2013,2014,2015,2016,2017,2018,2019,2020],\"y\":[0.20078569780853517,0.18976319742489225,0.19634735792622135,0.1995303964757708,0.21156383881230117,0.1958119873817034,0.19744958246346586,0.1915498940677966,0.20771855555555546,0.21012674897119332,0.2035758262511805,0.19925474974463744,0.19617032193158965,0.20670862068965531,0.1850451995685005,0.18384123408423111,0.18765906432748547,0.18007027863777123,0.17900361111111093,0.17298422782037268,0.18223730434782612],\"type\":\"scatter\"},{\"name\":\"Speechiness\",\"x\":[2000,2001,2002,2003,2004,2005,2006,2007,2008,2009,2010,2011,2012,2013,2014,2015,2016,2017,2018,2019,2020],\"y\":[0.0939059976931949,0.09197403433476385,0.08086999002991015,0.09717257709251106,0.09968472958642638,0.10448864353312315,0.08787995824634655,0.08003686440677975,0.07708966666666679,0.08426779835390948,0.0836255901794146,0.09742339121552598,0.08360543259557342,0.10919675456389442,0.08724660194174753,0.1020229187071498,0.1189044444444446,0.12043364293085651,0.13533962962962975,0.12593242059145654,0.14190660869565216],\"type\":\"scatter\"}],                        {\"template\":{\"data\":{\"histogram2dcontour\":[{\"type\":\"histogram2dcontour\",\"colorbar\":{\"outlinewidth\":0,\"ticks\":\"\"},\"colorscale\":[[0.0,\"#0d0887\"],[0.1111111111111111,\"#46039f\"],[0.2222222222222222,\"#7201a8\"],[0.3333333333333333,\"#9c179e\"],[0.4444444444444444,\"#bd3786\"],[0.5555555555555556,\"#d8576b\"],[0.6666666666666666,\"#ed7953\"],[0.7777777777777778,\"#fb9f3a\"],[0.8888888888888888,\"#fdca26\"],[1.0,\"#f0f921\"]]}],\"choropleth\":[{\"type\":\"choropleth\",\"colorbar\":{\"outlinewidth\":0,\"ticks\":\"\"}}],\"histogram2d\":[{\"type\":\"histogram2d\",\"colorbar\":{\"outlinewidth\":0,\"ticks\":\"\"},\"colorscale\":[[0.0,\"#0d0887\"],[0.1111111111111111,\"#46039f\"],[0.2222222222222222,\"#7201a8\"],[0.3333333333333333,\"#9c179e\"],[0.4444444444444444,\"#bd3786\"],[0.5555555555555556,\"#d8576b\"],[0.6666666666666666,\"#ed7953\"],[0.7777777777777778,\"#fb9f3a\"],[0.8888888888888888,\"#fdca26\"],[1.0,\"#f0f921\"]]}],\"heatmap\":[{\"type\":\"heatmap\",\"colorbar\":{\"outlinewidth\":0,\"ticks\":\"\"},\"colorscale\":[[0.0,\"#0d0887\"],[0.1111111111111111,\"#46039f\"],[0.2222222222222222,\"#7201a8\"],[0.3333333333333333,\"#9c179e\"],[0.4444444444444444,\"#bd3786\"],[0.5555555555555556,\"#d8576b\"],[0.6666666666666666,\"#ed7953\"],[0.7777777777777778,\"#fb9f3a\"],[0.8888888888888888,\"#fdca26\"],[1.0,\"#f0f921\"]]}],\"heatmapgl\":[{\"type\":\"heatmapgl\",\"colorbar\":{\"outlinewidth\":0,\"ticks\":\"\"},\"colorscale\":[[0.0,\"#0d0887\"],[0.1111111111111111,\"#46039f\"],[0.2222222222222222,\"#7201a8\"],[0.3333333333333333,\"#9c179e\"],[0.4444444444444444,\"#bd3786\"],[0.5555555555555556,\"#d8576b\"],[0.6666666666666666,\"#ed7953\"],[0.7777777777777778,\"#fb9f3a\"],[0.8888888888888888,\"#fdca26\"],[1.0,\"#f0f921\"]]}],\"contourcarpet\":[{\"type\":\"contourcarpet\",\"colorbar\":{\"outlinewidth\":0,\"ticks\":\"\"}}],\"contour\":[{\"type\":\"contour\",\"colorbar\":{\"outlinewidth\":0,\"ticks\":\"\"},\"colorscale\":[[0.0,\"#0d0887\"],[0.1111111111111111,\"#46039f\"],[0.2222222222222222,\"#7201a8\"],[0.3333333333333333,\"#9c179e\"],[0.4444444444444444,\"#bd3786\"],[0.5555555555555556,\"#d8576b\"],[0.6666666666666666,\"#ed7953\"],[0.7777777777777778,\"#fb9f3a\"],[0.8888888888888888,\"#fdca26\"],[1.0,\"#f0f921\"]]}],\"surface\":[{\"type\":\"surface\",\"colorbar\":{\"outlinewidth\":0,\"ticks\":\"\"},\"colorscale\":[[0.0,\"#0d0887\"],[0.1111111111111111,\"#46039f\"],[0.2222222222222222,\"#7201a8\"],[0.3333333333333333,\"#9c179e\"],[0.4444444444444444,\"#bd3786\"],[0.5555555555555556,\"#d8576b\"],[0.6666666666666666,\"#ed7953\"],[0.7777777777777778,\"#fb9f3a\"],[0.8888888888888888,\"#fdca26\"],[1.0,\"#f0f921\"]]}],\"mesh3d\":[{\"type\":\"mesh3d\",\"colorbar\":{\"outlinewidth\":0,\"ticks\":\"\"}}],\"scatter\":[{\"fillpattern\":{\"fillmode\":\"overlay\",\"size\":10,\"solidity\":0.2},\"type\":\"scatter\"}],\"parcoords\":[{\"type\":\"parcoords\",\"line\":{\"colorbar\":{\"outlinewidth\":0,\"ticks\":\"\"}}}],\"scatterpolargl\":[{\"type\":\"scatterpolargl\",\"marker\":{\"colorbar\":{\"outlinewidth\":0,\"ticks\":\"\"}}}],\"bar\":[{\"error_x\":{\"color\":\"#2a3f5f\"},\"error_y\":{\"color\":\"#2a3f5f\"},\"marker\":{\"line\":{\"color\":\"#E5ECF6\",\"width\":0.5},\"pattern\":{\"fillmode\":\"overlay\",\"size\":10,\"solidity\":0.2}},\"type\":\"bar\"}],\"scattergeo\":[{\"type\":\"scattergeo\",\"marker\":{\"colorbar\":{\"outlinewidth\":0,\"ticks\":\"\"}}}],\"scatterpolar\":[{\"type\":\"scatterpolar\",\"marker\":{\"colorbar\":{\"outlinewidth\":0,\"ticks\":\"\"}}}],\"histogram\":[{\"marker\":{\"pattern\":{\"fillmode\":\"overlay\",\"size\":10,\"solidity\":0.2}},\"type\":\"histogram\"}],\"scattergl\":[{\"type\":\"scattergl\",\"marker\":{\"colorbar\":{\"outlinewidth\":0,\"ticks\":\"\"}}}],\"scatter3d\":[{\"type\":\"scatter3d\",\"line\":{\"colorbar\":{\"outlinewidth\":0,\"ticks\":\"\"}},\"marker\":{\"colorbar\":{\"outlinewidth\":0,\"ticks\":\"\"}}}],\"scattermapbox\":[{\"type\":\"scattermapbox\",\"marker\":{\"colorbar\":{\"outlinewidth\":0,\"ticks\":\"\"}}}],\"scatterternary\":[{\"type\":\"scatterternary\",\"marker\":{\"colorbar\":{\"outlinewidth\":0,\"ticks\":\"\"}}}],\"scattercarpet\":[{\"type\":\"scattercarpet\",\"marker\":{\"colorbar\":{\"outlinewidth\":0,\"ticks\":\"\"}}}],\"carpet\":[{\"aaxis\":{\"endlinecolor\":\"#2a3f5f\",\"gridcolor\":\"white\",\"linecolor\":\"white\",\"minorgridcolor\":\"white\",\"startlinecolor\":\"#2a3f5f\"},\"baxis\":{\"endlinecolor\":\"#2a3f5f\",\"gridcolor\":\"white\",\"linecolor\":\"white\",\"minorgridcolor\":\"white\",\"startlinecolor\":\"#2a3f5f\"},\"type\":\"carpet\"}],\"table\":[{\"cells\":{\"fill\":{\"color\":\"#EBF0F8\"},\"line\":{\"color\":\"white\"}},\"header\":{\"fill\":{\"color\":\"#C8D4E3\"},\"line\":{\"color\":\"white\"}},\"type\":\"table\"}],\"barpolar\":[{\"marker\":{\"line\":{\"color\":\"#E5ECF6\",\"width\":0.5},\"pattern\":{\"fillmode\":\"overlay\",\"size\":10,\"solidity\":0.2}},\"type\":\"barpolar\"}],\"pie\":[{\"automargin\":true,\"type\":\"pie\"}]},\"layout\":{\"autotypenumbers\":\"strict\",\"colorway\":[\"#636efa\",\"#EF553B\",\"#00cc96\",\"#ab63fa\",\"#FFA15A\",\"#19d3f3\",\"#FF6692\",\"#B6E880\",\"#FF97FF\",\"#FECB52\"],\"font\":{\"color\":\"#2a3f5f\"},\"hovermode\":\"closest\",\"hoverlabel\":{\"align\":\"left\"},\"paper_bgcolor\":\"white\",\"plot_bgcolor\":\"#E5ECF6\",\"polar\":{\"bgcolor\":\"#E5ECF6\",\"angularaxis\":{\"gridcolor\":\"white\",\"linecolor\":\"white\",\"ticks\":\"\"},\"radialaxis\":{\"gridcolor\":\"white\",\"linecolor\":\"white\",\"ticks\":\"\"}},\"ternary\":{\"bgcolor\":\"#E5ECF6\",\"aaxis\":{\"gridcolor\":\"white\",\"linecolor\":\"white\",\"ticks\":\"\"},\"baxis\":{\"gridcolor\":\"white\",\"linecolor\":\"white\",\"ticks\":\"\"},\"caxis\":{\"gridcolor\":\"white\",\"linecolor\":\"white\",\"ticks\":\"\"}},\"coloraxis\":{\"colorbar\":{\"outlinewidth\":0,\"ticks\":\"\"}},\"colorscale\":{\"sequential\":[[0.0,\"#0d0887\"],[0.1111111111111111,\"#46039f\"],[0.2222222222222222,\"#7201a8\"],[0.3333333333333333,\"#9c179e\"],[0.4444444444444444,\"#bd3786\"],[0.5555555555555556,\"#d8576b\"],[0.6666666666666666,\"#ed7953\"],[0.7777777777777778,\"#fb9f3a\"],[0.8888888888888888,\"#fdca26\"],[1.0,\"#f0f921\"]],\"sequentialminus\":[[0.0,\"#0d0887\"],[0.1111111111111111,\"#46039f\"],[0.2222222222222222,\"#7201a8\"],[0.3333333333333333,\"#9c179e\"],[0.4444444444444444,\"#bd3786\"],[0.5555555555555556,\"#d8576b\"],[0.6666666666666666,\"#ed7953\"],[0.7777777777777778,\"#fb9f3a\"],[0.8888888888888888,\"#fdca26\"],[1.0,\"#f0f921\"]],\"diverging\":[[0,\"#8e0152\"],[0.1,\"#c51b7d\"],[0.2,\"#de77ae\"],[0.3,\"#f1b6da\"],[0.4,\"#fde0ef\"],[0.5,\"#f7f7f7\"],[0.6,\"#e6f5d0\"],[0.7,\"#b8e186\"],[0.8,\"#7fbc41\"],[0.9,\"#4d9221\"],[1,\"#276419\"]]},\"xaxis\":{\"gridcolor\":\"white\",\"linecolor\":\"white\",\"ticks\":\"\",\"title\":{\"standoff\":15},\"zerolinecolor\":\"white\",\"automargin\":true,\"zerolinewidth\":2},\"yaxis\":{\"gridcolor\":\"white\",\"linecolor\":\"white\",\"ticks\":\"\",\"title\":{\"standoff\":15},\"zerolinecolor\":\"white\",\"automargin\":true,\"zerolinewidth\":2},\"scene\":{\"xaxis\":{\"backgroundcolor\":\"#E5ECF6\",\"gridcolor\":\"white\",\"linecolor\":\"white\",\"showbackground\":true,\"ticks\":\"\",\"zerolinecolor\":\"white\",\"gridwidth\":2},\"yaxis\":{\"backgroundcolor\":\"#E5ECF6\",\"gridcolor\":\"white\",\"linecolor\":\"white\",\"showbackground\":true,\"ticks\":\"\",\"zerolinecolor\":\"white\",\"gridwidth\":2},\"zaxis\":{\"backgroundcolor\":\"#E5ECF6\",\"gridcolor\":\"white\",\"linecolor\":\"white\",\"showbackground\":true,\"ticks\":\"\",\"zerolinecolor\":\"white\",\"gridwidth\":2}},\"shapedefaults\":{\"line\":{\"color\":\"#2a3f5f\"}},\"annotationdefaults\":{\"arrowcolor\":\"#2a3f5f\",\"arrowhead\":0,\"arrowwidth\":1},\"geo\":{\"bgcolor\":\"white\",\"landcolor\":\"#E5ECF6\",\"subunitcolor\":\"white\",\"showland\":true,\"showlakes\":true,\"lakecolor\":\"white\"},\"title\":{\"x\":0.05},\"mapbox\":{\"style\":\"light\"}}}},                        {\"responsive\": true}                    ).then(function(){\n",
              "                            \n",
              "var gd = document.getElementById('033a6b0a-208c-4e39-9ed4-2b143995c6c8');\n",
              "var x = new MutationObserver(function (mutations, observer) {{\n",
              "        var display = window.getComputedStyle(gd).display;\n",
              "        if (!display || display === 'none') {{\n",
              "            console.log([gd, 'removed!']);\n",
              "            Plotly.purge(gd);\n",
              "            observer.disconnect();\n",
              "        }}\n",
              "}});\n",
              "\n",
              "// Listen for the removal of the full notebook cells\n",
              "var notebookContainer = gd.closest('#notebook-container');\n",
              "if (notebookContainer) {{\n",
              "    x.observe(notebookContainer, {childList: true});\n",
              "}}\n",
              "\n",
              "// Listen for the clearing of the current output cell\n",
              "var outputEl = gd.closest('.output');\n",
              "if (outputEl) {{\n",
              "    x.observe(outputEl, {childList: true});\n",
              "}}\n",
              "\n",
              "                        })                };                            </script>        </div>\n",
              "</body>\n",
              "</html>"
            ]
          },
          "metadata": {}
        }
      ],
      "source": [
        "# Visualização da variabilidade das variaveis em relação aos anos\n",
        "fig = go.Figure()\n",
        "\n",
        "temp = dados.groupBy('year').agg(\n",
        "    *[f.mean(x).alias(f'mean {x}') for x in dados.columns if x != 'year']\n",
        ").sort('year').toPandas()\n",
        "\n",
        "fig.add_trace(go.Scatter(x=temp['year'], y=temp['mean acousticness'], name='Acousticness'))\n",
        "fig.add_trace(go.Scatter(x=temp['year'], y=temp['mean valence'],\n",
        "                    name='Valence'))\n",
        "fig.add_trace(go.Scatter(x=temp['year'], y=temp['mean danceability'],\n",
        "                    name='Danceability'))\n",
        "fig.add_trace(go.Scatter(x=temp['year'], y=temp['mean energy'],\n",
        "                    name='Energy'))\n",
        "fig.add_trace(go.Scatter(x=temp['year'], y=temp['mean instrumentalness'],\n",
        "                    name='Instrumentalness'))\n",
        "fig.add_trace(go.Scatter(x=temp['year'], y=temp['mean liveness'],\n",
        "                    name='Liveness'))\n",
        "fig.add_trace(go.Scatter(x=temp['year'], y=temp['mean speechiness'],\n",
        "                    name='Speechiness'))\n",
        "\n",
        "fig.show()"
      ]
    },
    {
      "cell_type": "markdown",
      "metadata": {
        "id": "Cf0u9LxLwkRq"
      },
      "source": [
        "## Aula 2.3 Matriz de correlação"
      ]
    },
    {
      "cell_type": "code",
      "execution_count": 364,
      "metadata": {
        "colab": {
          "base_uri": "https://localhost:8080/",
          "height": 542
        },
        "id": "ERUd3iUZUIia",
        "outputId": "084f3c53-bea4-4bfe-893c-39097d770b2c"
      },
      "outputs": [
        {
          "output_type": "display_data",
          "data": {
            "text/html": [
              "<html>\n",
              "<head><meta charset=\"utf-8\" /></head>\n",
              "<body>\n",
              "    <div>            <script src=\"https://cdnjs.cloudflare.com/ajax/libs/mathjax/2.7.5/MathJax.js?config=TeX-AMS-MML_SVG\"></script><script type=\"text/javascript\">if (window.MathJax && window.MathJax.Hub && window.MathJax.Hub.Config) {window.MathJax.Hub.Config({SVG: {font: \"STIX-Web\"}});}</script>                <script type=\"text/javascript\">window.PlotlyConfig = {MathJaxConfig: 'local'};</script>\n",
              "        <script charset=\"utf-8\" src=\"https://cdn.plot.ly/plotly-2.35.2.min.js\"></script>                <div id=\"7ddc5707-97db-4b24-8e37-5d148f9adf06\" class=\"plotly-graph-div\" style=\"height:525px; width:100%;\"></div>            <script type=\"text/javascript\">                                    window.PLOTLYENV=window.PLOTLYENV || {};                                    if (document.getElementById(\"7ddc5707-97db-4b24-8e37-5d148f9adf06\")) {                    Plotly.newPlot(                        \"7ddc5707-97db-4b24-8e37-5d148f9adf06\",                        [{\"coloraxis\":\"coloraxis\",\"name\":\"0\",\"texttemplate\":\"%{z}\",\"x\":[\"valence\",\"year\",\"acousticness\",\"danceability\",\"duration_ms\",\"energy\",\"instrumentalness\",\"key\",\"liveness\",\"loudness\",\"popularity\",\"speechiness\"],\"y\":[\"valence\",\"year\",\"acousticness\",\"danceability\",\"duration_ms\",\"energy\",\"instrumentalness\",\"key\",\"liveness\",\"loudness\",\"popularity\",\"speechiness\"],\"z\":[[1.0,-0.11152818996552269,-0.17906507578880113,0.4706016928505381,-0.19255117869290994,0.35029199798428345,-0.2557841048653347,0.06281245032404886,0.02221366049722543,0.3378977669900986,-0.02666406634639214,0.08252614933102408],[-0.11152818996552269,1.0,-0.011224012558530316,0.17440028973064198,-0.14627395555186518,-0.06995658525945365,-0.13203456252176587,-0.01944499757131028,-0.04295002368784964,0.052483197651396335,0.5520537744643068,0.12405143773766447],[-0.17906507578880113,-0.011224012558530316,1.0,-0.1758942916516538,-0.05596681465486787,-0.7091107964699702,0.29973973152822125,-0.01686378572398173,-0.09844289738151028,-0.6036127005064934,-0.03187901141421101,-0.12082482277726948],[0.4706016928505381,0.17440028973064198,-0.1758942916516538,1.0,-0.15971497774585897,0.08735820678113757,-0.3142998559030547,0.02603104266908273,-0.0696597044523255,0.2679343205070181,0.1809607849711362,0.2267015756782655],[-0.19255117869290994,-0.14627395555186518,-0.05596681465486787,-0.15971497774585897,1.0,0.014565108670534132,0.07164598789913075,-0.0027495730984489247,0.052743206410793615,-0.017003038059048684,-0.10932110003241752,-0.02851359221465405],[0.35029199798428345,-0.06995658525945365,-0.7091107964699702,0.08735820678113757,0.014565108670534132,1.0,-0.3164682501295295,0.044070169030344435,0.17387777376175623,0.7595724242928918,-0.028459539491050623,0.11401773090551177],[-0.2557841048653347,-0.13203456252176587,0.29973973152822125,-0.3142998559030547,0.07164598789913075,-0.3164682501295295,1.0,-0.03315312406799346,-0.06234712806061889,-0.5588938236531733,-0.12504620012490858,-0.1371187140191706],[0.06281245032404886,-0.01944499757131028,-0.01686378572398173,0.02603104266908273,-0.0027495730984489247,0.044070169030344435,-0.03315312406799346,1.0,0.005800522438098611,0.044712176750229,-0.01233055098855189,0.029999171984878576],[0.02221366049722543,-0.04295002368784964,-0.09844289738151028,-0.0696597044523255,0.052743206410793615,0.17387777376175623,-0.06234712806061889,0.005800522438098611,1.0,0.09144172661855732,-0.06860593075406679,0.11955070410710385],[0.3378977669900986,0.052483197651396335,-0.6036127005064934,0.2679343205070181,-0.017003038059048684,0.7595724242928918,-0.5588938236531733,0.044712176750229,0.09144172661855732,1.0,0.09292468076617552,0.07902873344113712],[-0.02666406634639214,0.5520537744643068,-0.03187901141421101,0.1809607849711362,-0.10932110003241752,-0.028459539491050623,-0.12504620012490858,-0.01233055098855189,-0.06860593075406679,0.09292468076617552,1.0,0.057125553208252515],[0.08252614933102408,0.12405143773766447,-0.12082482277726948,0.2267015756782655,-0.02851359221465405,0.11401773090551177,-0.1371187140191706,0.029999171984878576,0.11955070410710385,0.07902873344113712,0.057125553208252515,1.0]],\"type\":\"heatmap\",\"xaxis\":\"x\",\"yaxis\":\"y\",\"hovertemplate\":\"x: %{x}\\u003cbr\\u003ey: %{y}\\u003cbr\\u003ecolor: %{z}\\u003cextra\\u003e\\u003c\\u002fextra\\u003e\"}],                        {\"template\":{\"data\":{\"histogram2dcontour\":[{\"type\":\"histogram2dcontour\",\"colorbar\":{\"outlinewidth\":0,\"ticks\":\"\"},\"colorscale\":[[0.0,\"#0d0887\"],[0.1111111111111111,\"#46039f\"],[0.2222222222222222,\"#7201a8\"],[0.3333333333333333,\"#9c179e\"],[0.4444444444444444,\"#bd3786\"],[0.5555555555555556,\"#d8576b\"],[0.6666666666666666,\"#ed7953\"],[0.7777777777777778,\"#fb9f3a\"],[0.8888888888888888,\"#fdca26\"],[1.0,\"#f0f921\"]]}],\"choropleth\":[{\"type\":\"choropleth\",\"colorbar\":{\"outlinewidth\":0,\"ticks\":\"\"}}],\"histogram2d\":[{\"type\":\"histogram2d\",\"colorbar\":{\"outlinewidth\":0,\"ticks\":\"\"},\"colorscale\":[[0.0,\"#0d0887\"],[0.1111111111111111,\"#46039f\"],[0.2222222222222222,\"#7201a8\"],[0.3333333333333333,\"#9c179e\"],[0.4444444444444444,\"#bd3786\"],[0.5555555555555556,\"#d8576b\"],[0.6666666666666666,\"#ed7953\"],[0.7777777777777778,\"#fb9f3a\"],[0.8888888888888888,\"#fdca26\"],[1.0,\"#f0f921\"]]}],\"heatmap\":[{\"type\":\"heatmap\",\"colorbar\":{\"outlinewidth\":0,\"ticks\":\"\"},\"colorscale\":[[0.0,\"#0d0887\"],[0.1111111111111111,\"#46039f\"],[0.2222222222222222,\"#7201a8\"],[0.3333333333333333,\"#9c179e\"],[0.4444444444444444,\"#bd3786\"],[0.5555555555555556,\"#d8576b\"],[0.6666666666666666,\"#ed7953\"],[0.7777777777777778,\"#fb9f3a\"],[0.8888888888888888,\"#fdca26\"],[1.0,\"#f0f921\"]]}],\"heatmapgl\":[{\"type\":\"heatmapgl\",\"colorbar\":{\"outlinewidth\":0,\"ticks\":\"\"},\"colorscale\":[[0.0,\"#0d0887\"],[0.1111111111111111,\"#46039f\"],[0.2222222222222222,\"#7201a8\"],[0.3333333333333333,\"#9c179e\"],[0.4444444444444444,\"#bd3786\"],[0.5555555555555556,\"#d8576b\"],[0.6666666666666666,\"#ed7953\"],[0.7777777777777778,\"#fb9f3a\"],[0.8888888888888888,\"#fdca26\"],[1.0,\"#f0f921\"]]}],\"contourcarpet\":[{\"type\":\"contourcarpet\",\"colorbar\":{\"outlinewidth\":0,\"ticks\":\"\"}}],\"contour\":[{\"type\":\"contour\",\"colorbar\":{\"outlinewidth\":0,\"ticks\":\"\"},\"colorscale\":[[0.0,\"#0d0887\"],[0.1111111111111111,\"#46039f\"],[0.2222222222222222,\"#7201a8\"],[0.3333333333333333,\"#9c179e\"],[0.4444444444444444,\"#bd3786\"],[0.5555555555555556,\"#d8576b\"],[0.6666666666666666,\"#ed7953\"],[0.7777777777777778,\"#fb9f3a\"],[0.8888888888888888,\"#fdca26\"],[1.0,\"#f0f921\"]]}],\"surface\":[{\"type\":\"surface\",\"colorbar\":{\"outlinewidth\":0,\"ticks\":\"\"},\"colorscale\":[[0.0,\"#0d0887\"],[0.1111111111111111,\"#46039f\"],[0.2222222222222222,\"#7201a8\"],[0.3333333333333333,\"#9c179e\"],[0.4444444444444444,\"#bd3786\"],[0.5555555555555556,\"#d8576b\"],[0.6666666666666666,\"#ed7953\"],[0.7777777777777778,\"#fb9f3a\"],[0.8888888888888888,\"#fdca26\"],[1.0,\"#f0f921\"]]}],\"mesh3d\":[{\"type\":\"mesh3d\",\"colorbar\":{\"outlinewidth\":0,\"ticks\":\"\"}}],\"scatter\":[{\"fillpattern\":{\"fillmode\":\"overlay\",\"size\":10,\"solidity\":0.2},\"type\":\"scatter\"}],\"parcoords\":[{\"type\":\"parcoords\",\"line\":{\"colorbar\":{\"outlinewidth\":0,\"ticks\":\"\"}}}],\"scatterpolargl\":[{\"type\":\"scatterpolargl\",\"marker\":{\"colorbar\":{\"outlinewidth\":0,\"ticks\":\"\"}}}],\"bar\":[{\"error_x\":{\"color\":\"#2a3f5f\"},\"error_y\":{\"color\":\"#2a3f5f\"},\"marker\":{\"line\":{\"color\":\"#E5ECF6\",\"width\":0.5},\"pattern\":{\"fillmode\":\"overlay\",\"size\":10,\"solidity\":0.2}},\"type\":\"bar\"}],\"scattergeo\":[{\"type\":\"scattergeo\",\"marker\":{\"colorbar\":{\"outlinewidth\":0,\"ticks\":\"\"}}}],\"scatterpolar\":[{\"type\":\"scatterpolar\",\"marker\":{\"colorbar\":{\"outlinewidth\":0,\"ticks\":\"\"}}}],\"histogram\":[{\"marker\":{\"pattern\":{\"fillmode\":\"overlay\",\"size\":10,\"solidity\":0.2}},\"type\":\"histogram\"}],\"scattergl\":[{\"type\":\"scattergl\",\"marker\":{\"colorbar\":{\"outlinewidth\":0,\"ticks\":\"\"}}}],\"scatter3d\":[{\"type\":\"scatter3d\",\"line\":{\"colorbar\":{\"outlinewidth\":0,\"ticks\":\"\"}},\"marker\":{\"colorbar\":{\"outlinewidth\":0,\"ticks\":\"\"}}}],\"scattermapbox\":[{\"type\":\"scattermapbox\",\"marker\":{\"colorbar\":{\"outlinewidth\":0,\"ticks\":\"\"}}}],\"scatterternary\":[{\"type\":\"scatterternary\",\"marker\":{\"colorbar\":{\"outlinewidth\":0,\"ticks\":\"\"}}}],\"scattercarpet\":[{\"type\":\"scattercarpet\",\"marker\":{\"colorbar\":{\"outlinewidth\":0,\"ticks\":\"\"}}}],\"carpet\":[{\"aaxis\":{\"endlinecolor\":\"#2a3f5f\",\"gridcolor\":\"white\",\"linecolor\":\"white\",\"minorgridcolor\":\"white\",\"startlinecolor\":\"#2a3f5f\"},\"baxis\":{\"endlinecolor\":\"#2a3f5f\",\"gridcolor\":\"white\",\"linecolor\":\"white\",\"minorgridcolor\":\"white\",\"startlinecolor\":\"#2a3f5f\"},\"type\":\"carpet\"}],\"table\":[{\"cells\":{\"fill\":{\"color\":\"#EBF0F8\"},\"line\":{\"color\":\"white\"}},\"header\":{\"fill\":{\"color\":\"#C8D4E3\"},\"line\":{\"color\":\"white\"}},\"type\":\"table\"}],\"barpolar\":[{\"marker\":{\"line\":{\"color\":\"#E5ECF6\",\"width\":0.5},\"pattern\":{\"fillmode\":\"overlay\",\"size\":10,\"solidity\":0.2}},\"type\":\"barpolar\"}],\"pie\":[{\"automargin\":true,\"type\":\"pie\"}]},\"layout\":{\"autotypenumbers\":\"strict\",\"colorway\":[\"#636efa\",\"#EF553B\",\"#00cc96\",\"#ab63fa\",\"#FFA15A\",\"#19d3f3\",\"#FF6692\",\"#B6E880\",\"#FF97FF\",\"#FECB52\"],\"font\":{\"color\":\"#2a3f5f\"},\"hovermode\":\"closest\",\"hoverlabel\":{\"align\":\"left\"},\"paper_bgcolor\":\"white\",\"plot_bgcolor\":\"#E5ECF6\",\"polar\":{\"bgcolor\":\"#E5ECF6\",\"angularaxis\":{\"gridcolor\":\"white\",\"linecolor\":\"white\",\"ticks\":\"\"},\"radialaxis\":{\"gridcolor\":\"white\",\"linecolor\":\"white\",\"ticks\":\"\"}},\"ternary\":{\"bgcolor\":\"#E5ECF6\",\"aaxis\":{\"gridcolor\":\"white\",\"linecolor\":\"white\",\"ticks\":\"\"},\"baxis\":{\"gridcolor\":\"white\",\"linecolor\":\"white\",\"ticks\":\"\"},\"caxis\":{\"gridcolor\":\"white\",\"linecolor\":\"white\",\"ticks\":\"\"}},\"coloraxis\":{\"colorbar\":{\"outlinewidth\":0,\"ticks\":\"\"}},\"colorscale\":{\"sequential\":[[0.0,\"#0d0887\"],[0.1111111111111111,\"#46039f\"],[0.2222222222222222,\"#7201a8\"],[0.3333333333333333,\"#9c179e\"],[0.4444444444444444,\"#bd3786\"],[0.5555555555555556,\"#d8576b\"],[0.6666666666666666,\"#ed7953\"],[0.7777777777777778,\"#fb9f3a\"],[0.8888888888888888,\"#fdca26\"],[1.0,\"#f0f921\"]],\"sequentialminus\":[[0.0,\"#0d0887\"],[0.1111111111111111,\"#46039f\"],[0.2222222222222222,\"#7201a8\"],[0.3333333333333333,\"#9c179e\"],[0.4444444444444444,\"#bd3786\"],[0.5555555555555556,\"#d8576b\"],[0.6666666666666666,\"#ed7953\"],[0.7777777777777778,\"#fb9f3a\"],[0.8888888888888888,\"#fdca26\"],[1.0,\"#f0f921\"]],\"diverging\":[[0,\"#8e0152\"],[0.1,\"#c51b7d\"],[0.2,\"#de77ae\"],[0.3,\"#f1b6da\"],[0.4,\"#fde0ef\"],[0.5,\"#f7f7f7\"],[0.6,\"#e6f5d0\"],[0.7,\"#b8e186\"],[0.8,\"#7fbc41\"],[0.9,\"#4d9221\"],[1,\"#276419\"]]},\"xaxis\":{\"gridcolor\":\"white\",\"linecolor\":\"white\",\"ticks\":\"\",\"title\":{\"standoff\":15},\"zerolinecolor\":\"white\",\"automargin\":true,\"zerolinewidth\":2},\"yaxis\":{\"gridcolor\":\"white\",\"linecolor\":\"white\",\"ticks\":\"\",\"title\":{\"standoff\":15},\"zerolinecolor\":\"white\",\"automargin\":true,\"zerolinewidth\":2},\"scene\":{\"xaxis\":{\"backgroundcolor\":\"#E5ECF6\",\"gridcolor\":\"white\",\"linecolor\":\"white\",\"showbackground\":true,\"ticks\":\"\",\"zerolinecolor\":\"white\",\"gridwidth\":2},\"yaxis\":{\"backgroundcolor\":\"#E5ECF6\",\"gridcolor\":\"white\",\"linecolor\":\"white\",\"showbackground\":true,\"ticks\":\"\",\"zerolinecolor\":\"white\",\"gridwidth\":2},\"zaxis\":{\"backgroundcolor\":\"#E5ECF6\",\"gridcolor\":\"white\",\"linecolor\":\"white\",\"showbackground\":true,\"ticks\":\"\",\"zerolinecolor\":\"white\",\"gridwidth\":2}},\"shapedefaults\":{\"line\":{\"color\":\"#2a3f5f\"}},\"annotationdefaults\":{\"arrowcolor\":\"#2a3f5f\",\"arrowhead\":0,\"arrowwidth\":1},\"geo\":{\"bgcolor\":\"white\",\"landcolor\":\"#E5ECF6\",\"subunitcolor\":\"white\",\"showland\":true,\"showlakes\":true,\"lakecolor\":\"white\"},\"title\":{\"x\":0.05},\"mapbox\":{\"style\":\"light\"}}},\"xaxis\":{\"anchor\":\"y\",\"domain\":[0.0,1.0],\"scaleanchor\":\"y\",\"constrain\":\"domain\"},\"yaxis\":{\"anchor\":\"x\",\"domain\":[0.0,1.0],\"autorange\":\"reversed\",\"constrain\":\"domain\"},\"coloraxis\":{\"colorscale\":[[0.0,\"#0d0887\"],[0.1111111111111111,\"#46039f\"],[0.2222222222222222,\"#7201a8\"],[0.3333333333333333,\"#9c179e\"],[0.4444444444444444,\"#bd3786\"],[0.5555555555555556,\"#d8576b\"],[0.6666666666666666,\"#ed7953\"],[0.7777777777777778,\"#fb9f3a\"],[0.8888888888888888,\"#fdca26\"],[1.0,\"#f0f921\"]]},\"margin\":{\"t\":60}},                        {\"responsive\": true}                    ).then(function(){\n",
              "                            \n",
              "var gd = document.getElementById('7ddc5707-97db-4b24-8e37-5d148f9adf06');\n",
              "var x = new MutationObserver(function (mutations, observer) {{\n",
              "        var display = window.getComputedStyle(gd).display;\n",
              "        if (!display || display === 'none') {{\n",
              "            console.log([gd, 'removed!']);\n",
              "            Plotly.purge(gd);\n",
              "            observer.disconnect();\n",
              "        }}\n",
              "}});\n",
              "\n",
              "// Listen for the removal of the full notebook cells\n",
              "var notebookContainer = gd.closest('#notebook-container');\n",
              "if (notebookContainer) {{\n",
              "    x.observe(notebookContainer, {childList: true});\n",
              "}}\n",
              "\n",
              "// Listen for the clearing of the current output cell\n",
              "var outputEl = gd.closest('.output');\n",
              "if (outputEl) {{\n",
              "    x.observe(outputEl, {childList: true});\n",
              "}}\n",
              "\n",
              "                        })                };                            </script>        </div>\n",
              "</body>\n",
              "</html>"
            ]
          },
          "metadata": {}
        }
      ],
      "source": [
        "fig = px.imshow(dados.drop('mode').toPandas().corr(numeric_only=True), text_auto=True)\n",
        "fig.show()"
      ]
    },
    {
      "cell_type": "markdown",
      "source": [
        "Considerações finais sobre a análise descritiva dos dados:\n",
        "- O atributo relacionado a empolgação da música tem forte relação (considerando o método de Pearson) com o volume.\n",
        "- Não há grandes variações das variáveis numéricas em relação ao ano.  "
      ],
      "metadata": {
        "id": "Bx15mG5-KFz8"
      }
    },
    {
      "cell_type": "markdown",
      "metadata": {
        "id": "R8Cj61yTOH44"
      },
      "source": [
        "# Modelo de recomendação\n"
      ]
    },
    {
      "cell_type": "markdown",
      "metadata": {
        "id": "tl2upg8t__25"
      },
      "source": [
        "# Aula 4 - Clusterização por música"
      ]
    },
    {
      "cell_type": "markdown",
      "metadata": {
        "id": "BFlEqVHd_9qq"
      },
      "source": [
        "## Aula 4.1 Redução de dimensionalidade com PCA"
      ]
    },
    {
      "cell_type": "code",
      "execution_count": 365,
      "metadata": {
        "id": "6pfzxo-d-A4j"
      },
      "outputs": [],
      "source": [
        "from pyspark.ml.feature import PCA, StandardScaler, VectorAssembler\n",
        "from pyspark.ml.clustering import KMeans\n",
        "from pyspark.ml.functions import vector_to_array\n",
        "from pyspark.ml import Pipeline\n",
        "import numpy as np\n",
        "\n",
        "\n",
        "# Remoção das variáveis categóricas\n",
        "\n",
        "X = dados.columns\n",
        "X.remove('artists')\n",
        "X.remove('id')\n",
        "X.remove('name')\n",
        "X.remove('artists_song')\n",
        "X.remove('key')\n",
        "X.remove('mode')"
      ]
    },
    {
      "cell_type": "code",
      "source": [
        "X"
      ],
      "metadata": {
        "colab": {
          "base_uri": "https://localhost:8080/"
        },
        "id": "CXnmO_xby6Nb",
        "outputId": "33d69d2f-4a76-4349-bdf4-30d96f5781fc"
      },
      "execution_count": 366,
      "outputs": [
        {
          "output_type": "execute_result",
          "data": {
            "text/plain": [
              "['valence',\n",
              " 'year',\n",
              " 'acousticness',\n",
              " 'danceability',\n",
              " 'duration_ms',\n",
              " 'energy',\n",
              " 'instrumentalness',\n",
              " 'liveness',\n",
              " 'loudness',\n",
              " 'popularity',\n",
              " 'speechiness']"
            ]
          },
          "metadata": {},
          "execution_count": 366
        }
      ]
    },
    {
      "cell_type": "code",
      "execution_count": 367,
      "metadata": {
        "id": "wce3-QYO94ld"
      },
      "outputs": [],
      "source": [
        "# Vetorização do dataframe\n",
        "dados_encoded_vector = VectorAssembler(inputCols=X, outputCol='features').transform(dados)"
      ]
    },
    {
      "cell_type": "code",
      "execution_count": 368,
      "metadata": {
        "id": "g6Mo4NIoHNAj",
        "colab": {
          "base_uri": "https://localhost:8080/"
        },
        "outputId": "6337e18d-c002-4797-840c-7c01d59351b8"
      },
      "outputs": [
        {
          "output_type": "stream",
          "name": "stdout",
          "text": [
            "+-----------------------------------------------------------------------------------------------------+\n",
            "|features                                                                                             |\n",
            "+-----------------------------------------------------------------------------------------------------+\n",
            "|[0.285,2000.0,0.00239,0.429,266773.0,0.6609999999999999,1.21E-4,0.234,-7.227,84.0,0.0281]            |\n",
            "|[0.613,2000.0,0.143,0.843,270507.0,0.8059999999999999,0.0,0.0771,-5.9460000000000015,80.0,0.269]     |\n",
            "|[0.4,2000.0,0.00958,0.556,216880.0,0.8640000000000001,0.0,0.209,-5.87,84.0,0.0584]                   |\n",
            "|[0.5429999999999999,2000.0,0.00664,0.545,233933.0,0.865,1.1E-5,0.168,-5.7079999999999975,78.0,0.0286]|\n",
            "|[0.76,2000.0,0.0302,0.949,284200.0,0.6609999999999999,0.0,0.0454,-4.244,80.0,0.0572]                 |\n",
            "+-----------------------------------------------------------------------------------------------------+\n",
            "only showing top 5 rows\n",
            "\n"
          ]
        }
      ],
      "source": [
        "dados_encoded_vector.select('features').show(truncate=False, n=5)"
      ]
    },
    {
      "cell_type": "code",
      "execution_count": 369,
      "metadata": {
        "id": "4RKOLOgepKe7"
      },
      "outputs": [],
      "source": [
        "# Normalização das variáveis\n",
        "\n",
        "scaler = StandardScaler(inputCol='features', outputCol='features_scaled')\n",
        "model_scaler = scaler.fit(dados_encoded_vector)\n",
        "dados_musicas_scaler = model_scaler.transform(dados_encoded_vector)"
      ]
    },
    {
      "cell_type": "code",
      "execution_count": 370,
      "metadata": {
        "id": "153yyQqueH82",
        "colab": {
          "base_uri": "https://localhost:8080/"
        },
        "outputId": "6f91e2e7-c484-4eef-e48e-6373189f9c90"
      },
      "outputs": [
        {
          "output_type": "stream",
          "name": "stdout",
          "text": [
            "+--------------------------------------------------------------------------------------------------------------------------------------------------------------------------------------------------------------------+\n",
            "|features_scaled                                                                                                                                                                                                     |\n",
            "+--------------------------------------------------------------------------------------------------------------------------------------------------------------------------------------------------------------------+\n",
            "|[1.156596679221045,329.8170613984441,0.008403188822334736,2.5040545743834373,3.7858811737298526,2.980511298201045,6.070790766862789E-4,1.4832857988766257,-1.672877140523799,7.265838057312001,0.2649447312760731]  |\n",
            "|[2.4876974188157917,329.8170613984441,0.5027849379053837,4.9205547930192015,3.8388718448349017,3.634329964220942,0.0,0.48872365424524716,-1.3763563688327813,6.919845768868572,2.536303655276287]                   |\n",
            "|[1.6232935848716423,329.8170613984441,0.033683074861073956,3.2453481197137326,3.0778298739322585,3.8958574306289013,0.0,1.324815093868439,-1.3587641919018543,7.265838057312001,0.5506324664242943]                 |\n",
            "|[2.203621041463254,329.8170613984441,0.023346097816026208,3.181141592165439,3.3198357428006045,3.9003665248773136,5.5189006971479895E-5,1.0649231376550132,-1.3212650779175095,6.746849624646858,0.2696590503379249]|\n",
            "|[3.0842578112561205,329.8170613984441,0.10618255331987825,5.539272240302755,4.033194624546053,2.980511298201045,0.0,0.2877828002948667,-0.982384195984918,6.919845768868572,0.5393181006758498]                     |\n",
            "+--------------------------------------------------------------------------------------------------------------------------------------------------------------------------------------------------------------------+\n",
            "only showing top 5 rows\n",
            "\n"
          ]
        }
      ],
      "source": [
        "dados_musicas_scaler.select('features_scaled').show(truncate=False, n=5)"
      ]
    },
    {
      "cell_type": "code",
      "execution_count": 371,
      "metadata": {
        "id": "gT4xN4c7pKe8",
        "colab": {
          "base_uri": "https://localhost:8080/"
        },
        "outputId": "d2274d34-b46b-4867-90e6-903366223472"
      },
      "outputs": [
        {
          "output_type": "execute_result",
          "data": {
            "text/plain": [
              "11"
            ]
          },
          "metadata": {},
          "execution_count": 371
        }
      ],
      "source": [
        "k = len(X)\n",
        "k"
      ]
    },
    {
      "cell_type": "code",
      "execution_count": 372,
      "metadata": {
        "id": "_zIrOu-FycWX",
        "colab": {
          "base_uri": "https://localhost:8080/"
        },
        "outputId": "42f4c5f1-2c40-4ce1-aaf2-8bd9af1bdd2b"
      },
      "outputs": [
        {
          "output_type": "execute_result",
          "data": {
            "text/plain": [
              "[0.278665827097831,\n",
              " 0.44149528137440053,\n",
              " 0.559435012822716,\n",
              " 0.6569888890820815,\n",
              " 0.7395159941439322,\n",
              " 0.8111141607920362,\n",
              " 0.875421487582109,\n",
              " 0.9201794397916018,\n",
              " 0.9201794397916018,\n",
              " 0.9201794397916018,\n",
              " 0.9201794397916018]"
            ]
          },
          "metadata": {},
          "execution_count": 372
        }
      ],
      "source": [
        "# Seleção do melhor número dimensões\n",
        "lista_valores = [sum(model_pca.explainedVariance[0:i+1]) for i in range(k)]\n",
        "lista_valores"
      ]
    },
    {
      "cell_type": "code",
      "execution_count": 373,
      "metadata": {
        "id": "wWtq2SCAy9YZ",
        "colab": {
          "base_uri": "https://localhost:8080/"
        },
        "outputId": "68a450ad-9e5f-4a0e-f109-e86cd3d428d2"
      },
      "outputs": [
        {
          "output_type": "execute_result",
          "data": {
            "text/plain": [
              "6"
            ]
          },
          "metadata": {},
          "execution_count": 373
        }
      ],
      "source": [
        "k = sum(np.array(lista_valores) <= 0.85)\n",
        "k"
      ]
    },
    {
      "cell_type": "code",
      "execution_count": 374,
      "metadata": {
        "id": "UNELudWYza-0"
      },
      "outputs": [],
      "source": [
        "# Treinamento do PCA\n",
        "\n",
        "pca = PCA(k=k, inputCol='features_scaled', outputCol='pca_features')\n",
        "model_pca = pca.fit(dados_musicas_scaler)\n",
        "dados_musicas_pca_final = model_pca.transform(dados_musicas_scaler)"
      ]
    },
    {
      "cell_type": "code",
      "execution_count": 375,
      "metadata": {
        "id": "LcTDYu2vzaz3",
        "colab": {
          "base_uri": "https://localhost:8080/"
        },
        "outputId": "52c0d6ac-dfa8-4a1e-8cbb-90809ade77ce"
      },
      "outputs": [
        {
          "output_type": "stream",
          "name": "stdout",
          "text": [
            "+--------------------------------------------------------------------------------------------------------------------+\n",
            "|pca_features                                                                                                        |\n",
            "+--------------------------------------------------------------------------------------------------------------------+\n",
            "|[-23.469331234339744,191.9372421920982,120.9814748770573,1.5563286633453421,-20.690273879418424,3.58082489129993]   |\n",
            "|[-25.021543350318545,192.9401960738028,118.94458130635749,2.81700654954751,-18.80998673344184,2.7685091096427814]   |\n",
            "|[-24.464333702373533,192.1962057815164,120.30332444666243,1.563159140908613,-20.92834578458773,3.1216085440427923]  |\n",
            "|[-24.52833687602008,191.82623290616436,119.88246504712356,1.2584481970074808,-20.731776881421155,3.2818995808756606]|\n",
            "|[-25.114795027441307,192.8897440967857,118.45153191166948,1.2840665127574855,-18.983950952921493,4.025062279791538] |\n",
            "+--------------------------------------------------------------------------------------------------------------------+\n",
            "only showing top 5 rows\n",
            "\n"
          ]
        }
      ],
      "source": [
        "dados_musicas_pca_final.select('pca_features').show(truncate=False, n=5)"
      ]
    },
    {
      "cell_type": "code",
      "execution_count": 376,
      "metadata": {
        "id": "ZaRCzx8VzaUC",
        "colab": {
          "base_uri": "https://localhost:8080/"
        },
        "outputId": "1e346d3c-aa49-4d0f-c57b-9fd54e3dc919"
      },
      "outputs": [
        {
          "output_type": "execute_result",
          "data": {
            "text/plain": [
              "81.11141607920362"
            ]
          },
          "metadata": {},
          "execution_count": 376
        }
      ],
      "source": [
        "sum(model_pca.explainedVariance) *100"
      ]
    },
    {
      "cell_type": "markdown",
      "metadata": {
        "id": "HY-2xm5y3u93"
      },
      "source": [
        "## Aplicação do cluster com K-Means"
      ]
    },
    {
      "cell_type": "code",
      "execution_count": 377,
      "metadata": {
        "id": "JcC77zNlpt3C"
      },
      "outputs": [],
      "source": [
        "pca_pipeline = Pipeline(stages=[VectorAssembler(inputCols=X, outputCol='features'),\n",
        "                                StandardScaler(inputCol='features', outputCol='features_scaled'),\n",
        "                                PCA(k=6, inputCol='features_scaled', outputCol='pca_features')])"
      ]
    },
    {
      "cell_type": "code",
      "execution_count": 378,
      "metadata": {
        "id": "m9cfEZFdfDlN"
      },
      "outputs": [],
      "source": [
        "model_pca_pipeline = pca_pipeline.fit(dados)"
      ]
    },
    {
      "cell_type": "code",
      "execution_count": 379,
      "metadata": {
        "id": "6BGkk0J1fDlO"
      },
      "outputs": [],
      "source": [
        "projection = model_pca_pipeline.transform(dados)"
      ]
    },
    {
      "cell_type": "code",
      "execution_count": 380,
      "metadata": {
        "id": "SXQVWYzLfDlO",
        "colab": {
          "base_uri": "https://localhost:8080/"
        },
        "outputId": "080893e1-da18-43f9-8f52-50de7881822a"
      },
      "outputs": [
        {
          "output_type": "stream",
          "name": "stdout",
          "text": [
            "+--------------------------------------------------------------------------------------------------------------------+\n",
            "|pca_features                                                                                                        |\n",
            "+--------------------------------------------------------------------------------------------------------------------+\n",
            "|[-23.469331234339744,191.9372421920982,120.9814748770573,1.5563286633453421,-20.690273879418424,3.58082489129993]   |\n",
            "|[-25.021543350318545,192.9401960738028,118.94458130635749,2.81700654954751,-18.80998673344184,2.7685091096427814]   |\n",
            "|[-24.464333702373533,192.1962057815164,120.30332444666243,1.563159140908613,-20.92834578458773,3.1216085440427923]  |\n",
            "|[-24.52833687602008,191.82623290616436,119.88246504712356,1.2584481970074808,-20.731776881421155,3.2818995808756606]|\n",
            "|[-25.114795027441307,192.8897440967857,118.45153191166948,1.2840665127574855,-18.983950952921493,4.025062279791538] |\n",
            "+--------------------------------------------------------------------------------------------------------------------+\n",
            "only showing top 5 rows\n",
            "\n"
          ]
        }
      ],
      "source": [
        "projection.select('pca_features').show(truncate=False, n=5)"
      ]
    },
    {
      "cell_type": "code",
      "execution_count": 381,
      "metadata": {
        "id": "-HnUnCJoIqpU"
      },
      "outputs": [],
      "source": [
        "kmeans = KMeans(k=50, featuresCol='pca_features', predictionCol='cluster_pca', seed=51)"
      ]
    },
    {
      "cell_type": "code",
      "execution_count": 382,
      "metadata": {
        "id": "v_mJbYVWItCk"
      },
      "outputs": [],
      "source": [
        "modelo_kmeans = kmeans.fit(projection)"
      ]
    },
    {
      "cell_type": "code",
      "execution_count": 383,
      "metadata": {
        "id": "RPEbrrksSzQH"
      },
      "outputs": [],
      "source": [
        "projetion_kmeans = modelo_kmeans.transform(projection)"
      ]
    },
    {
      "cell_type": "code",
      "execution_count": 384,
      "metadata": {
        "id": "hPEum8u2S_Ny",
        "colab": {
          "base_uri": "https://localhost:8080/"
        },
        "outputId": "ce7454a6-d45a-44e2-f7a6-ff9377431df2"
      },
      "outputs": [
        {
          "output_type": "stream",
          "name": "stdout",
          "text": [
            "+--------------------+-----------+\n",
            "|        pca_features|cluster_pca|\n",
            "+--------------------+-----------+\n",
            "|[-23.469331234339...|         35|\n",
            "|[-25.021543350318...|         47|\n",
            "|[-24.464333702373...|         26|\n",
            "|[-24.528336876020...|         49|\n",
            "|[-25.114795027441...|         30|\n",
            "|[-25.425876679541...|         30|\n",
            "|[-24.727753819290...|         30|\n",
            "|[-25.120275972778...|         19|\n",
            "|[-25.183616298458...|         49|\n",
            "|[-24.989471132729...|         16|\n",
            "|[-20.701904779539...|         20|\n",
            "|[-24.839269428333...|         49|\n",
            "|[-24.820183029360...|         14|\n",
            "|[-24.521349965141...|         30|\n",
            "|[-23.248516314253...|         22|\n",
            "|[-24.141133579299...|         16|\n",
            "|[-24.364883359701...|         43|\n",
            "|[-24.091245115852...|          5|\n",
            "|[-24.850853496623...|          9|\n",
            "|[-23.237755256876...|         33|\n",
            "+--------------------+-----------+\n",
            "only showing top 20 rows\n",
            "\n"
          ]
        }
      ],
      "source": [
        "projetion_kmeans.select(['pca_features','cluster_pca']).show()"
      ]
    },
    {
      "cell_type": "code",
      "execution_count": 385,
      "metadata": {
        "id": "L_JPh3ZQeuoW"
      },
      "outputs": [],
      "source": [
        "projetion_kmeans = projetion_kmeans.withColumn('x', vector_to_array('pca_features')[0])\\\n",
        "                                   .withColumn('y', vector_to_array('pca_features')[1])"
      ]
    },
    {
      "cell_type": "code",
      "source": [
        "projetion_kmeans.show()"
      ],
      "metadata": {
        "colab": {
          "base_uri": "https://localhost:8080/"
        },
        "id": "aKgDx4JswRKu",
        "outputId": "9c1da1d5-fbb3-40b2-9492-17df5fcb523e"
      },
      "execution_count": 386,
      "outputs": [
        {
          "output_type": "stream",
          "name": "stdout",
          "text": [
            "+------------------+----+------------+--------------+------------------+-----------+------------------+--------------------+--------------------+---+--------+-------------------+----+--------------------+----------+-----------+--------------------+--------------------+--------------------+--------------------+-----------+-------------------+------------------+\n",
            "|           valence|year|acousticness|       artists|      danceability|duration_ms|            energy|                  id|    instrumentalness|key|liveness|           loudness|mode|                name|popularity|speechiness|        artists_song|            features|     features_scaled|        pca_features|cluster_pca|                  x|                 y|\n",
            "+------------------+----+------------+--------------+------------------+-----------+------------------+--------------------+--------------------+---+--------+-------------------+----+--------------------+----------+-----------+--------------------+--------------------+--------------------+--------------------+-----------+-------------------+------------------+\n",
            "|             0.285|2000|     0.00239|      Coldplay|             0.429|     266773|0.6609999999999999|3AJwUDP919kvQ9Qco...|             1.21E-4| 11|   0.234|             -7.227|   1|              Yellow|        84|     0.0281|   Coldplay - Yellow|[0.285,2000.0,0.0...|[1.15659667922104...|[-23.469331234339...|         35|-23.469331234339744| 191.9372421920982|\n",
            "|             0.613|2000|       0.143|       OutKast|             0.843|     270507|0.8059999999999999|0I3q5fE6wg7LIfHGn...|                 0.0|  4|  0.0771|-5.9460000000000015|   0|         Ms. Jackson|        80|      0.269|OutKast - Ms. Jac...|[0.613,2000.0,0.1...|[2.48769741881579...|[-25.021543350318...|         47|-25.021543350318545| 192.9401960738028|\n",
            "|               0.4|2000|     0.00958|   Linkin Park|             0.556|     216880|0.8640000000000001|60a0Rd6pjrkxjPbaK...|                 0.0|  3|   0.209|              -5.87|   0|          In the End|        84|     0.0584|Linkin Park - In ...|[0.4,2000.0,0.009...|[1.62329358487164...|[-24.464333702373...|         26|-24.464333702373533| 192.1962057815164|\n",
            "|0.5429999999999999|2000|     0.00664|  3 Doors Down|             0.545|     233933|             0.865|6ZOBP3NvffbU4SZcr...|              1.1E-5| 11|   0.168|-5.7079999999999975|   0|          Kryptonite|        78|     0.0286|3 Doors Down - Kr...|[0.54299999999999...|[2.20362104146325...|[-24.528336876020...|         49| -24.52833687602008|191.82623290616436|\n",
            "|              0.76|2000|      0.0302|        Eminem|             0.949|     284200|0.6609999999999999|3yfqSUWxFvZELEM4P...|                 0.0|  5|  0.0454|             -4.244|   0| The Real Slim Shady|        80|     0.0572|Eminem - The Real...|[0.76,2000.0,0.03...|[3.08425781125612...|[-25.114795027441...|         30|-25.114795027441307| 192.8897440967857|\n",
            "|             0.941|2000|     9.96E-4|     Disturbed|             0.695|     279213|0.8759999999999999|40rvBMQizxkIqnjPd...|             6.89E-6|  3|   0.106|             -4.262|   0|Down with the Sic...|        76|     0.0553|Disturbed - Down ...|[0.941,2000.0,9.9...|[3.81879815841053...|[-25.425876679541...|         30|-25.425876679541314|191.90667622512296|\n",
            "|             0.722|2000|      0.0616|         Nelly|              0.85|     291782|               0.7|3Gf5nttwcX9aaSQXR...|              1.8E-6|  7|   0.244|              -6.49|   1|         Ride Wit Me|        74|     0.0478| Nelly - Ride Wit Me|[0.722,2000.0,0.0...|[2.93004492069331...|[-24.727753819290...|         30| -24.72775381929059|192.16113202306568|\n",
            "|             0.507|2000|      0.0371|        Eminem|              0.78|     404107|             0.768|3UmaczJpikHgJFyBT...|             2.34E-6|  6|   0.518|             -4.325|   0|                Stan|        78|      0.238|       Eminem - Stan|[0.507,2000.0,0.0...|[2.05752461882480...|[-25.120275972778...|         19|-25.120275972778003| 191.5443145864541|\n",
            "|             0.861|2000|       0.031|        *NSYNC|              0.61|     200400|             0.926|62bOmKYxYg7dhrC6g...|              0.0012|  8|  0.0821|             -4.843|   0|         Bye Bye Bye|        71|     0.0479|*NSYNC - Bye Bye Bye|[0.861,2000.0,0.0...|[3.49413944143621...|[-25.183616298458...|         49| -25.18361629845851|191.82342838594516|\n",
            "|             0.894|2000|         0.3|Britney Spears|0.7509999999999999|     211160|0.8340000000000001|6naxalmIoLFWR0siv...|             1.77E-5|  1|   0.355|             -5.444|   0|Oops!...I Did It ...|        78|     0.0437|Britney Spears - ...|[0.894,2000.0,0.3...|[3.62806116218812...|[-24.989471132729...|         16|-24.989471132729705|192.34376411039727|\n",
            "|             0.165|2000|       0.748|      Coldplay|             0.371|     227093|             0.268|7D0RhFcb3CrfPuTJ0...|              0.0517|  1|   0.104|-10.505999999999998|   1|              Sparks|        73|     0.0281|   Coldplay - Sparks|[0.165,2000.0,0.7...|[0.66960860375955...|[-20.701904779539...|         20|-20.701904779539316|192.60005024846708|\n",
            "|0.5379999999999999|2000|      0.0014|   Linkin Park|0.4920000000000001|     157333|             0.969|3K4HG9evC7dg3N0R9...|             1.32E-6|  9|  0.0787|             -4.419|   1|     One Step Closer|        76|     0.0491|Linkin Park - One...|[0.53799999999999...|[2.18332987165235...|[-24.839269428333...|         49|-24.839269428333044| 191.9301733226478|\n",
            "|             0.654|2000|      0.0561|        Shaggy|             0.853|     227600|             0.606|3WkibOpDF7cQ5xntM...|                 0.0|  0|   0.313|             -4.596|   1|        It Wasn't Me|        76|     0.0713|Shaggy - It Wasn'...|[0.654,2000.0,0.0...|[2.65408501126513...|[-24.820183029360...|         14|-24.820183029360397|192.54378904490622|\n",
            "|             0.565|2000|     0.00689|         Nelly|             0.865|     287000|             0.664|3wMUvT6eIw2L5cZFG...|                 0.0|  2|   0.142|             -6.822|   1|Country Grammar (...|        70|      0.108|Nelly - Country G...|[0.565,2000.0,0.0...|[2.29290218863119...|[-24.521349965141...|         30|-24.521349965141752|192.23144864687558|\n",
            "|             0.532|2000|      0.0112|   The Beatles|             0.386|     425653|             0.607|0aym2LBJBk9DAYuHH...|1.380000000000000...| 10|   0.088|               -7.7|   1|Hey Jude - Remast...|        76|     0.0261|The Beatles - Hey...|[0.532,2000.0,0.0...|[2.15898046787928...|[-23.248516314253...|         22|-23.248516314253596|191.07646697758608|\n",
            "|             0.866|2000|       0.386|   The Beatles|              0.49|     145747|             0.715|4pbG9SUmWIvsROVLF...|                 0.0|  7|   0.311|             -5.549|   1|I Want To Hold Yo...|        73|     0.0476|The Beatles - I W...|[0.866,2000.0,0.3...|[3.51443061124710...|[-24.141133579299...|         16| -24.14113357929918|192.14268757412353|\n",
            "|             0.435|2000|     0.00118|     Lifehouse|             0.541|     216067|0.8640000000000001|0wqOReZDnrefefEsr...|                 0.0|  1|  0.0896|             -4.915|   1| Hanging By A Moment|        65|     0.0357|Lifehouse - Hangi...|[0.435,2000.0,0.0...|[1.76533177354791...|[-24.364883359701...|         43|-24.364883359701423|191.35269240045355|\n",
            "|             0.299|2000|      0.0466|   Linkin Park|              0.58|     208960|0.7020000000000001|57BrRMwf9LrcmuOsy...|              3.2E-6|  4|   0.536|             -5.565|   1|            Crawling|        73|     0.0337|Linkin Park - Cra...|[0.299,2000.0,0.0...|[1.21341195469155...|[-24.091245115852...|          5| -24.09124511585258| 191.5346585103424|\n",
            "|             0.915|2000|      0.0281|       OutKast|             0.725|     240027|              0.64|6glsMWIMIxQ4BedzL...|                 0.0|  5|   0.099|             -7.905|   0|  So Fresh, So Clean|        68|      0.332|OutKast - So Fres...|[0.915,2000.0,0.0...|[3.71328407539388...|[-24.850853496623...|          9|-24.850853496623884| 192.5199373463058|\n",
            "|             0.885|2000|       0.627|     Sam Cooke|             0.691|     125440|             0.507|2g2GkH3vZHk4lWzBj...|                 0.0| 11|   0.457|             -10.23|   1|(What A) Wonderfu...|        72|     0.0343|Sam Cooke - (What...|[0.885,2000.0,0.6...|[3.59153705652850...|[-23.237755256876...|         33| -23.23775525687615|192.86842277504903|\n",
            "+------------------+----+------------+--------------+------------------+-----------+------------------+--------------------+--------------------+---+--------+-------------------+----+--------------------+----------+-----------+--------------------+--------------------+--------------------+--------------------+-----------+-------------------+------------------+\n",
            "only showing top 20 rows\n",
            "\n"
          ]
        }
      ]
    },
    {
      "cell_type": "markdown",
      "metadata": {
        "id": "C_jPt0TF3WRT"
      },
      "source": [
        "# Aula 5 - Sistemas de Recomendação"
      ]
    },
    {
      "cell_type": "markdown",
      "metadata": {
        "id": "xlg1B3oQBQNX"
      },
      "source": [
        "## Aula 5.3 Biblioteca Spotipy"
      ]
    },
    {
      "cell_type": "code",
      "execution_count": 403,
      "metadata": {
        "id": "Oxq5yYkhV2Kt",
        "colab": {
          "base_uri": "https://localhost:8080/"
        },
        "outputId": "fe563874-4b81-4286-89f2-14c0d381c924"
      },
      "outputs": [
        {
          "output_type": "stream",
          "name": "stdout",
          "text": [
            "Requirement already satisfied: spotipy in /usr/local/lib/python3.11/dist-packages (2.25.0)\n",
            "Requirement already satisfied: redis>=3.5.3 in /usr/local/lib/python3.11/dist-packages (from spotipy) (5.2.1)\n",
            "Requirement already satisfied: requests>=2.25.0 in /usr/local/lib/python3.11/dist-packages (from spotipy) (2.32.3)\n",
            "Requirement already satisfied: urllib3>=1.26.0 in /usr/local/lib/python3.11/dist-packages (from spotipy) (2.3.0)\n",
            "Requirement already satisfied: charset-normalizer<4,>=2 in /usr/local/lib/python3.11/dist-packages (from requests>=2.25.0->spotipy) (3.4.1)\n",
            "Requirement already satisfied: idna<4,>=2.5 in /usr/local/lib/python3.11/dist-packages (from requests>=2.25.0->spotipy) (3.10)\n",
            "Requirement already satisfied: certifi>=2017.4.17 in /usr/local/lib/python3.11/dist-packages (from requests>=2.25.0->spotipy) (2025.1.31)\n"
          ]
        }
      ],
      "source": [
        "!pip install spotipy"
      ]
    },
    {
      "cell_type": "code",
      "execution_count": 404,
      "metadata": {
        "id": "_h9taTSpV4zu"
      },
      "outputs": [],
      "source": [
        "# Importação das bibliotecas para conexão com Spotify\n",
        "\n",
        "import spotipy\n",
        "from spotipy.oauth2 import SpotifyOAuth, SpotifyClientCredentials"
      ]
    },
    {
      "cell_type": "markdown",
      "metadata": {
        "id": "nzJAzu_7V-Lm"
      },
      "source": [
        "**ATENÇÃO!**\n",
        "\n",
        "Antes de rodar essa parte do código, você precisa fazer uma conta na API do Spotify e gerar suas próprias **client_id** e **client_secret**"
      ]
    },
    {
      "cell_type": "code",
      "execution_count": 405,
      "metadata": {
        "id": "IfOPBgpDV8_t"
      },
      "outputs": [],
      "source": [
        "scope = \"user-library-read playlist-modify-private\"\n",
        "\n",
        "OAuth = SpotifyOAuth(\n",
        "        scope=scope,\n",
        "        redirect_uri='http://localhost:5000/callback',\n",
        "        client_id = '566b010ba65541ebb537ea12f225fee3',\n",
        "        client_secret = '0d71d1191ca7418d9af15433c6acfd62')"
      ]
    },
    {
      "cell_type": "code",
      "execution_count": 406,
      "metadata": {
        "id": "saE2Iq8yWdK-"
      },
      "outputs": [],
      "source": [
        "client_credentials_manager = SpotifyClientCredentials(client_id = '566b010ba65541ebb537ea12f225fee3',\n",
        "                                                      client_secret = '0d71d1191ca7418d9af15433c6acfd62')\n",
        "\n",
        "sp = spotipy.Spotify(client_credentials_manager = client_credentials_manager)"
      ]
    },
    {
      "cell_type": "code",
      "execution_count": 409,
      "metadata": {
        "id": "089Wk0T52sce"
      },
      "outputs": [],
      "source": [
        "def recomendador(nome_musica):\n",
        "  # Calcula musicas recomendadas\n",
        "  cluster = projetion_kmeans.filter(projetion_kmeans.artists_song == nome_musica).select('cluster_pca').collect()[0][0]\n",
        "  musicas_recomendadas = projetion_kmeans.filter(projetion_kmeans.cluster_pca == cluster)\\\n",
        "                                       .select('artists_song', 'id', 'pca_features')\n",
        "  componenetes_musica = musicas_recomendadas.filter(musicas_recomendadas.artists_song == nome_musica)\\\n",
        "                                          .select('pca_features').collect()[0][0]\n",
        "\n",
        "  def calcula_distance(value):\n",
        "    return euclidean(componenetes_musica, value)\n",
        "\n",
        "  udf_calcula_distance = f.udf(calcula_distance, FloatType())\n",
        "\n",
        "  musicas_recomendadas_dist = musicas_recomendadas.withColumn('Dist', udf_calcula_distance('pca_features'))\n",
        "\n",
        "  recomendadas = sessao_spark.createDataFrame(musicas_recomendadas_dist.sort('Dist').take(10)).select(['artists_song', 'id', 'Dist'])\n",
        "\n",
        "  recomendadas.select('artists_song').show(truncate=False)\n",
        "\n",
        "  #Pegar informações da API\n",
        "\n",
        "  playlist_id = recomendadas.select('id').collect()\n",
        "\n",
        "  playlist_track = []\n",
        "\n",
        "  for id in playlist_id:\n",
        "    playlist_track.append(sp.track(id[0]))\n",
        "\n",
        "  return len(playlist_track)"
      ]
    },
    {
      "cell_type": "code",
      "execution_count": 410,
      "metadata": {
        "id": "kScgfsHnsw2f",
        "colab": {
          "base_uri": "https://localhost:8080/"
        },
        "outputId": "f4f05470-46d1-4984-e774-6acab31e4667"
      },
      "outputs": [
        {
          "output_type": "stream",
          "name": "stdout",
          "text": [
            "+------------------------------------------+\n",
            "|artists_song                              |\n",
            "+------------------------------------------+\n",
            "|Coldplay - Yellow                         |\n",
            "|Avril Lavigne - When You're Gone          |\n",
            "|The Script - For the First Time           |\n",
            "|Cody Johnson - I Ain't Going Nowhere Baby |\n",
            "|The Killers - Here With Me                |\n",
            "|Chris Tomlin - At The Cross (Love Ran Red)|\n",
            "|Foo Fighters - These Days                 |\n",
            "|Lana Del Rey - Born To Die                |\n",
            "|Kings of Leon - Back Down South           |\n",
            "|Paramore - Last Hope                      |\n",
            "+------------------------------------------+\n",
            "\n"
          ]
        },
        {
          "output_type": "execute_result",
          "data": {
            "text/plain": [
              "10"
            ]
          },
          "metadata": {},
          "execution_count": 410
        }
      ],
      "source": [
        "recomendador('Coldplay - Yellow')"
      ]
    },
    {
      "cell_type": "markdown",
      "metadata": {
        "id": "ERsHCSQLAvx6"
      },
      "source": [
        "https://developer.spotify.com/documentation/web-api/reference/#/operations/get-track"
      ]
    }
  ],
  "metadata": {
    "colab": {
      "collapsed_sections": [
        "gBnt__8-x0Kc",
        "vxctxPjUeH7J",
        "hcYvAz91-jAn"
      ],
      "provenance": [],
      "toc_visible": true
    },
    "kernelspec": {
      "display_name": "Python 3",
      "name": "python3"
    },
    "language_info": {
      "name": "python"
    }
  },
  "nbformat": 4,
  "nbformat_minor": 0
}